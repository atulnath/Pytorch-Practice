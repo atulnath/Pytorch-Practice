{
  "nbformat": 4,
  "nbformat_minor": 0,
  "metadata": {
    "colab": {
      "provenance": [],
      "gpuType": "T4",
      "authorship_tag": "ABX9TyNX1d2POXswQknWjodcfb2o",
      "include_colab_link": true
    },
    "kernelspec": {
      "name": "python3",
      "display_name": "Python 3"
    },
    "language_info": {
      "name": "python"
    },
    "accelerator": "GPU"
  },
  "cells": [
    {
      "cell_type": "markdown",
      "metadata": {
        "id": "view-in-github",
        "colab_type": "text"
      },
      "source": [
        "<a href=\"https://colab.research.google.com/github/atulnath/Pytorch-Practice/blob/main/pyTorch_Revision_06_06_2025.ipynb\" target=\"_parent\"><img src=\"https://colab.research.google.com/assets/colab-badge.svg\" alt=\"Open In Colab\"/></a>"
      ]
    },
    {
      "cell_type": "code",
      "execution_count": 4,
      "metadata": {
        "colab": {
          "base_uri": "https://localhost:8080/"
        },
        "id": "tNyak6873F6x",
        "outputId": "b08d731a-8d8e-48fa-86bb-813ccfd79440"
      },
      "outputs": [
        {
          "output_type": "execute_result",
          "data": {
            "text/plain": [
              "tensor([1.0801e-30])"
            ]
          },
          "metadata": {},
          "execution_count": 4
        }
      ],
      "source": [
        "import torch\n",
        "#scalar\n",
        "x = torch.empty(1) # Here 1 is the size\n",
        "x"
      ]
    },
    {
      "cell_type": "code",
      "source": [
        "#vector\n",
        "x = torch.empty(3)\n",
        "x"
      ],
      "metadata": {
        "colab": {
          "base_uri": "https://localhost:8080/"
        },
        "id": "Y53JxqT_3iY-",
        "outputId": "f4472a4e-e6e8-430e-fd8e-9680a275f830"
      },
      "execution_count": 5,
      "outputs": [
        {
          "output_type": "execute_result",
          "data": {
            "text/plain": [
              "tensor([0.0000, 0.0000, 0.5951])"
            ]
          },
          "metadata": {},
          "execution_count": 5
        }
      ]
    },
    {
      "cell_type": "code",
      "source": [
        "#matrix\n",
        "x = torch.empty(3,2)\n",
        "x"
      ],
      "metadata": {
        "colab": {
          "base_uri": "https://localhost:8080/"
        },
        "id": "9HTbwJrr3yBa",
        "outputId": "6f3c7dbd-68c7-47d0-c73a-38659eb5585c"
      },
      "execution_count": 6,
      "outputs": [
        {
          "output_type": "execute_result",
          "data": {
            "text/plain": [
              "tensor([[5.9513e-01, 0.0000e+00],\n",
              "        [5.9512e-01, 0.0000e+00],\n",
              "        [1.1210e-43, 0.0000e+00]])"
            ]
          },
          "metadata": {},
          "execution_count": 6
        }
      ]
    },
    {
      "cell_type": "code",
      "source": [
        "#tensor, 3 dimensions\n",
        "x = torch.empty(3,2,3)\n",
        "x"
      ],
      "metadata": {
        "colab": {
          "base_uri": "https://localhost:8080/"
        },
        "id": "JvxkvpFf3_E9",
        "outputId": "35edb289-d128-42fc-d467-e05aaf593ca6"
      },
      "execution_count": 7,
      "outputs": [
        {
          "output_type": "execute_result",
          "data": {
            "text/plain": [
              "tensor([[[8.6051e-02, 0.0000e+00, 1.0465e-30],\n",
              "         [4.3980e-41, 0.0000e+00, 0.0000e+00]],\n",
              "\n",
              "        [[0.0000e+00, 0.0000e+00, 0.0000e+00],\n",
              "         [0.0000e+00, 0.0000e+00, 0.0000e+00]],\n",
              "\n",
              "        [[0.0000e+00, 0.0000e+00, 0.0000e+00],\n",
              "         [0.0000e+00, 1.4013e-45, 0.0000e+00]]])"
            ]
          },
          "metadata": {},
          "execution_count": 7
        }
      ]
    },
    {
      "cell_type": "code",
      "source": [
        "#Random\n",
        "x = torch.rand(2,2)\n",
        "x"
      ],
      "metadata": {
        "colab": {
          "base_uri": "https://localhost:8080/"
        },
        "id": "3pOfdG8T4deT",
        "outputId": "746196b8-c965-4a14-978b-52eda5fc207e"
      },
      "execution_count": 8,
      "outputs": [
        {
          "output_type": "execute_result",
          "data": {
            "text/plain": [
              "tensor([[0.3723, 0.1097],\n",
              "        [0.7361, 0.0111]])"
            ]
          },
          "metadata": {},
          "execution_count": 8
        }
      ]
    },
    {
      "cell_type": "code",
      "source": [
        "x = torch.zeros(2,2)\n",
        "y = torch.ones(2,2)\n",
        "print(\"zeros(2,2)\\n\",x)\n",
        "print(\"torch.ones(2,2)\\n\",y)"
      ],
      "metadata": {
        "colab": {
          "base_uri": "https://localhost:8080/"
        },
        "id": "m39PLJSi4lG1",
        "outputId": "60886027-50d7-4cba-a3b4-6528907a1d61"
      },
      "execution_count": 9,
      "outputs": [
        {
          "output_type": "stream",
          "name": "stdout",
          "text": [
            "zeros(2,2)\n",
            " tensor([[0., 0.],\n",
            "        [0., 0.]])\n",
            "torch.ones(2,2)\n",
            " tensor([[1., 1.],\n",
            "        [1., 1.]])\n"
          ]
        }
      ]
    },
    {
      "cell_type": "code",
      "source": [
        "#checking size\n",
        "\n",
        "x = torch.rand(3,2)\n",
        "print(x.size()) #Function\n",
        "print(x.shape) #Atribute\n",
        "\n",
        "print(x.size(0)) #Function\n",
        "print(x.shape[1]) #Atribute\n",
        "print(x.dtype)"
      ],
      "metadata": {
        "colab": {
          "base_uri": "https://localhost:8080/"
        },
        "id": "KrkYblS_5ERX",
        "outputId": "4dee2980-3ad5-4d92-b92a-1c7ca1215e00"
      },
      "execution_count": 10,
      "outputs": [
        {
          "output_type": "stream",
          "name": "stdout",
          "text": [
            "torch.Size([3, 2])\n",
            "torch.Size([3, 2])\n",
            "3\n",
            "2\n",
            "torch.float32\n"
          ]
        }
      ]
    },
    {
      "cell_type": "code",
      "source": [
        "x = torch.ones(2,2, dtype=torch.int)\n",
        "print(x.dtype)"
      ],
      "metadata": {
        "colab": {
          "base_uri": "https://localhost:8080/"
        },
        "id": "RD7r0A9651C7",
        "outputId": "9f23b32e-b478-4f4d-97c5-0e974dd54e03"
      },
      "execution_count": 11,
      "outputs": [
        {
          "output_type": "stream",
          "name": "stdout",
          "text": [
            "torch.int32\n"
          ]
        }
      ]
    },
    {
      "cell_type": "code",
      "source": [
        "#Tensor from list or numpy data\n",
        "\n",
        "x = torch.tensor([2.5, 0.1])\n",
        "print(x)\n",
        "print(x.dtype)"
      ],
      "metadata": {
        "colab": {
          "base_uri": "https://localhost:8080/"
        },
        "id": "Lv7xJUrY6EE-",
        "outputId": "74f70041-2d2d-4332-942e-31fa81db6fe1"
      },
      "execution_count": 12,
      "outputs": [
        {
          "output_type": "stream",
          "name": "stdout",
          "text": [
            "tensor([2.5000, 0.1000])\n",
            "torch.float32\n"
          ]
        }
      ]
    },
    {
      "cell_type": "code",
      "source": [
        "#For optimization we use requires_grad argument to calculate the gradients\n",
        "\n",
        "x = torch.tensor([2.5, 0.1], requires_grad=True)\n",
        "print(x)\n",
        "print(x.dtype)"
      ],
      "metadata": {
        "colab": {
          "base_uri": "https://localhost:8080/"
        },
        "id": "aWDMvt6v6bky",
        "outputId": "f7f31887-9469-4bd5-cf88-9d7c556c4c5f"
      },
      "execution_count": 13,
      "outputs": [
        {
          "output_type": "stream",
          "name": "stdout",
          "text": [
            "tensor([2.5000, 0.1000], requires_grad=True)\n",
            "torch.float32\n"
          ]
        }
      ]
    },
    {
      "cell_type": "code",
      "source": [
        "#numpy operations\n",
        "\n",
        "x = torch.ones(2,3)\n",
        "y = torch.rand(2,3)\n",
        "print(x)\n",
        "print(y)\n",
        "\n",
        "res = x + y # torch.add(x,y)\n",
        "print(res)"
      ],
      "metadata": {
        "colab": {
          "base_uri": "https://localhost:8080/"
        },
        "id": "Fdozprjn6vOX",
        "outputId": "398e3114-8288-4b0c-8fce-6a05702cee90"
      },
      "execution_count": 14,
      "outputs": [
        {
          "output_type": "stream",
          "name": "stdout",
          "text": [
            "tensor([[1., 1., 1.],\n",
            "        [1., 1., 1.]])\n",
            "tensor([[0.6960, 0.9951, 0.5249],\n",
            "        [0.2724, 0.4907, 0.0187]])\n",
            "tensor([[1.6960, 1.9951, 1.5249],\n",
            "        [1.2724, 1.4907, 1.0187]])\n"
          ]
        }
      ]
    },
    {
      "cell_type": "code",
      "source": [
        "#subtraction\n",
        "\n",
        "res = x - y\n",
        "print(res)\n",
        "\n",
        "#multiplication\n",
        "\n",
        "res = x * y\n",
        "print(res)\n",
        "\n",
        "#division\n",
        "\n",
        "res = x / y\n",
        "print(res)\n",
        "\n"
      ],
      "metadata": {
        "colab": {
          "base_uri": "https://localhost:8080/"
        },
        "id": "XZIObfLU7H4R",
        "outputId": "6951270a-634c-4906-c730-58d516c905d6"
      },
      "execution_count": 15,
      "outputs": [
        {
          "output_type": "stream",
          "name": "stdout",
          "text": [
            "tensor([[0.3040, 0.0049, 0.4751],\n",
            "        [0.7276, 0.5093, 0.9813]])\n",
            "tensor([[0.6960, 0.9951, 0.5249],\n",
            "        [0.2724, 0.4907, 0.0187]])\n",
            "tensor([[ 1.4367,  1.0049,  1.9052],\n",
            "        [ 3.6714,  2.0380, 53.4490]])\n"
          ]
        }
      ]
    },
    {
      "cell_type": "code",
      "source": [
        "#slicing\n",
        "\n",
        "x = torch.rand(4,2)\n",
        "\n",
        "print(x)\n",
        "\n",
        "# all row of col 0\n",
        "\n",
        "print(x[:,0])\n",
        "\n",
        "# row 1, all col\n",
        "\n",
        "print(x[1,:])\n",
        "\n",
        "#to access single element\n",
        "\n",
        "print(x[0,1])"
      ],
      "metadata": {
        "colab": {
          "base_uri": "https://localhost:8080/"
        },
        "id": "OXk3TVF67fH2",
        "outputId": "d0809594-33e1-4761-d13e-d68f617e732f"
      },
      "execution_count": 16,
      "outputs": [
        {
          "output_type": "stream",
          "name": "stdout",
          "text": [
            "tensor([[0.2203, 0.1604],\n",
            "        [0.1382, 0.5262],\n",
            "        [0.8669, 0.6359],\n",
            "        [0.6913, 0.2428]])\n",
            "tensor([0.2203, 0.1382, 0.8669, 0.6913])\n",
            "tensor([0.1382, 0.5262])\n",
            "tensor(0.1604)\n"
          ]
        }
      ]
    },
    {
      "cell_type": "code",
      "source": [
        "# to get complete float value item()\n",
        "\n",
        "print(x[0,1].item())"
      ],
      "metadata": {
        "colab": {
          "base_uri": "https://localhost:8080/"
        },
        "id": "XHyutn1B8P01",
        "outputId": "76fcc25a-6c0f-4fde-cdf9-b0730b275196"
      },
      "execution_count": 17,
      "outputs": [
        {
          "output_type": "stream",
          "name": "stdout",
          "text": [
            "0.1603986620903015\n"
          ]
        }
      ]
    },
    {
      "cell_type": "code",
      "source": [
        "#Reshaping with tensor.view()\n",
        "\n",
        "x = torch.rand(3,4) #3 rows, 4 cols\n",
        "print(x)\n",
        "\n",
        "y = x.view(12)\n",
        "print(y)\n",
        "\n",
        "z = x.view(-1,6)\n",
        "print(z)\n",
        "\n",
        "x.size(), y.size(), z.size()"
      ],
      "metadata": {
        "colab": {
          "base_uri": "https://localhost:8080/"
        },
        "id": "JnPb7F5z8oU9",
        "outputId": "1c645d22-20f3-4b29-94f4-cc8212d42dc2"
      },
      "execution_count": 18,
      "outputs": [
        {
          "output_type": "stream",
          "name": "stdout",
          "text": [
            "tensor([[0.9971, 0.1576, 0.6660, 0.0170],\n",
            "        [0.6833, 0.1273, 0.6525, 0.9468],\n",
            "        [0.2410, 0.8415, 0.6219, 0.2127]])\n",
            "tensor([0.9971, 0.1576, 0.6660, 0.0170, 0.6833, 0.1273, 0.6525, 0.9468, 0.2410,\n",
            "        0.8415, 0.6219, 0.2127])\n",
            "tensor([[0.9971, 0.1576, 0.6660, 0.0170, 0.6833, 0.1273],\n",
            "        [0.6525, 0.9468, 0.2410, 0.8415, 0.6219, 0.2127]])\n"
          ]
        },
        {
          "output_type": "execute_result",
          "data": {
            "text/plain": [
              "(torch.Size([3, 4]), torch.Size([12]), torch.Size([2, 6]))"
            ]
          },
          "metadata": {},
          "execution_count": 18
        }
      ]
    },
    {
      "cell_type": "code",
      "source": [
        "#Tensor to numpy\n",
        "\n",
        "a = torch.ones(3)\n",
        "\n",
        "print(a)\n",
        "\n",
        "b = a.numpy()\n",
        "\n",
        "print(b)\n",
        "\n",
        "print(type(b))"
      ],
      "metadata": {
        "colab": {
          "base_uri": "https://localhost:8080/"
        },
        "id": "QXjEOAz691_m",
        "outputId": "44709754-2b8f-493f-dbab-5a089218bb16"
      },
      "execution_count": 19,
      "outputs": [
        {
          "output_type": "stream",
          "name": "stdout",
          "text": [
            "tensor([1., 1., 1.])\n",
            "[1. 1. 1.]\n",
            "<class 'numpy.ndarray'>\n"
          ]
        }
      ]
    },
    {
      "cell_type": "code",
      "source": [
        "#CPU change value of a will change the value of b as they share same\n",
        "#memory locations\n",
        "\n",
        "a.add_(2)\n",
        "print(a)\n",
        "print(b)"
      ],
      "metadata": {
        "colab": {
          "base_uri": "https://localhost:8080/"
        },
        "id": "HHjGUh6I-fgz",
        "outputId": "5ad2e510-7d39-4cc8-c2eb-1ddecd511816"
      },
      "execution_count": 20,
      "outputs": [
        {
          "output_type": "stream",
          "name": "stdout",
          "text": [
            "tensor([3., 3., 3.])\n",
            "[3. 3. 3.]\n"
          ]
        }
      ]
    }
  ]
}