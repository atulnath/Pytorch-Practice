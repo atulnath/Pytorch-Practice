{
  "nbformat": 4,
  "nbformat_minor": 0,
  "metadata": {
    "colab": {
      "provenance": [],
      "authorship_tag": "ABX9TyNV36Yu20BrdbCjSPtvzJPL",
      "include_colab_link": true
    },
    "kernelspec": {
      "name": "python3",
      "display_name": "Python 3"
    },
    "language_info": {
      "name": "python"
    }
  },
  "cells": [
    {
      "cell_type": "markdown",
      "metadata": {
        "id": "view-in-github",
        "colab_type": "text"
      },
      "source": [
        "<a href=\"https://colab.research.google.com/github/atulnath/Pytorch-Practice/blob/main/pytorch_05_07_2025.ipynb\" target=\"_parent\"><img src=\"https://colab.research.google.com/assets/colab-badge.svg\" alt=\"Open In Colab\"/></a>"
      ]
    },
    {
      "cell_type": "code",
      "execution_count": 1,
      "metadata": {
        "id": "G47LFnMQagiG"
      },
      "outputs": [],
      "source": [
        "import torch"
      ]
    },
    {
      "cell_type": "code",
      "source": [
        "# y = x^2 + 3x + 1\n",
        "\n",
        "x_value=torch.tensor(2.0,requires_grad=True)\n",
        "y_value=x_value**2+3*x_value+1\n",
        "y_value.backward() # Count Gradient\n",
        "x_value.grad # dy/dx = 2x + 3, putting x = 2, dy/dx = 7"
      ],
      "metadata": {
        "colab": {
          "base_uri": "https://localhost:8080/"
        },
        "id": "jmKiU5Q6a9fg",
        "outputId": "df057664-f780-4024-8d11-c0e27723d72b"
      },
      "execution_count": 2,
      "outputs": [
        {
          "output_type": "execute_result",
          "data": {
            "text/plain": [
              "tensor(7.)"
            ]
          },
          "metadata": {},
          "execution_count": 2
        }
      ]
    },
    {
      "cell_type": "code",
      "source": [
        "# multiple tensor and gradient\n",
        "\n",
        "a=torch.tensor(2.0,requires_grad=True)\n",
        "b=torch.tensor(3.0,requires_grad=True)\n",
        "\n",
        "z = a*b + b**2 # z = ab + b^2\n",
        "z.backward()\n",
        "print(a.grad) # dz/da = b = 3\n",
        "print(b.grad) # dz/db = a + 2 b = 2 + 2 * 3 = 8"
      ],
      "metadata": {
        "colab": {
          "base_uri": "https://localhost:8080/"
        },
        "id": "wmZ_MvaHbuUd",
        "outputId": "c9f72ada-75de-4ea5-d5ba-021049b10712"
      },
      "execution_count": 3,
      "outputs": [
        {
          "output_type": "stream",
          "name": "stdout",
          "text": [
            "tensor(3.)\n",
            "tensor(8.)\n"
          ]
        }
      ]
    },
    {
      "cell_type": "code",
      "source": [
        "# Let take a data\n",
        "\n",
        "X = torch.tensor([[1],[2],[3]],dtype=torch.float32, requires_grad=False)\n",
        "X"
      ],
      "metadata": {
        "colab": {
          "base_uri": "https://localhost:8080/"
        },
        "id": "ZVBJKltpgfMN",
        "outputId": "58878f3a-c439-4695-84d5-79b46df7d6e0"
      },
      "execution_count": 5,
      "outputs": [
        {
          "output_type": "execute_result",
          "data": {
            "text/plain": [
              "tensor([[1.],\n",
              "        [2.],\n",
              "        [3.]])"
            ]
          },
          "metadata": {},
          "execution_count": 5
        }
      ]
    },
    {
      "cell_type": "code",
      "source": [
        "# Target Data, Y = 2X\n",
        "Y_Actual = torch.tensor([[2],[4],[6]],dtype=torch.float32)\n",
        "Y_Actual"
      ],
      "metadata": {
        "colab": {
          "base_uri": "https://localhost:8080/"
        },
        "id": "IL_ZbwYnguo-",
        "outputId": "07ff313a-128b-40db-9d49-1325dd5163cd"
      },
      "execution_count": 6,
      "outputs": [
        {
          "output_type": "execute_result",
          "data": {
            "text/plain": [
              "tensor([[2.],\n",
              "        [4.],\n",
              "        [6.]])"
            ]
          },
          "metadata": {},
          "execution_count": 6
        }
      ]
    },
    {
      "cell_type": "code",
      "source": [
        "# Let define a weight function\n",
        "weight = torch.tensor([[1]],dtype=torch.float32,requires_grad=True)\n",
        "weight"
      ],
      "metadata": {
        "colab": {
          "base_uri": "https://localhost:8080/"
        },
        "id": "12mM_5_xg-9l",
        "outputId": "5164ec19-ac31-431a-8686-b9ee3b722097"
      },
      "execution_count": 7,
      "outputs": [
        {
          "output_type": "execute_result",
          "data": {
            "text/plain": [
              "tensor([[1.]], requires_grad=True)"
            ]
          },
          "metadata": {},
          "execution_count": 7
        }
      ]
    },
    {
      "cell_type": "code",
      "source": [
        "# Bias should be 0 as because of y = 2X\n",
        "bias = torch.tensor([[0]],dtype=torch.float32,requires_grad=True)\n",
        "bias"
      ],
      "metadata": {
        "colab": {
          "base_uri": "https://localhost:8080/"
        },
        "id": "sIltnLxeho5d",
        "outputId": "c79fc6cb-df06-4b9d-a9a2-3e13e096e9fa"
      },
      "execution_count": 8,
      "outputs": [
        {
          "output_type": "execute_result",
          "data": {
            "text/plain": [
              "tensor([[0.]], requires_grad=True)"
            ]
          },
          "metadata": {},
          "execution_count": 8
        }
      ]
    },
    {
      "cell_type": "code",
      "source": [
        "# Prediction which we will compare with with Y_Actual\n",
        "Y_Predicted = X @ weight + bias # Linear Regression equation\n",
        "Y_Predicted"
      ],
      "metadata": {
        "colab": {
          "base_uri": "https://localhost:8080/"
        },
        "id": "hj9ipANOh2rN",
        "outputId": "473b07bd-6296-4184-be01-acad4849919b"
      },
      "execution_count": 10,
      "outputs": [
        {
          "output_type": "execute_result",
          "data": {
            "text/plain": [
              "tensor([[1.],\n",
              "        [2.],\n",
              "        [3.]], grad_fn=<AddBackward0>)"
            ]
          },
          "metadata": {},
          "execution_count": 10
        }
      ]
    },
    {
      "cell_type": "code",
      "source": [
        "loss = torch.mean((Y_Predicted - Y_Actual)**2)\n",
        "loss"
      ],
      "metadata": {
        "colab": {
          "base_uri": "https://localhost:8080/"
        },
        "id": "6JJs8ZwpiCd-",
        "outputId": "31911592-2341-4deb-d498-b153aba74485"
      },
      "execution_count": 11,
      "outputs": [
        {
          "output_type": "execute_result",
          "data": {
            "text/plain": [
              "tensor(4.6667, grad_fn=<MeanBackward0>)"
            ]
          },
          "metadata": {},
          "execution_count": 11
        }
      ]
    },
    {
      "cell_type": "code",
      "source": [
        "loss.backward()"
      ],
      "metadata": {
        "id": "36HGVEw-iZK1"
      },
      "execution_count": 12,
      "outputs": []
    },
    {
      "cell_type": "code",
      "source": [
        "weight.grad"
      ],
      "metadata": {
        "colab": {
          "base_uri": "https://localhost:8080/"
        },
        "id": "vnYMBLXBijgW",
        "outputId": "3e919247-9a30-49c3-dd09-b4f87708a179"
      },
      "execution_count": 13,
      "outputs": [
        {
          "output_type": "execute_result",
          "data": {
            "text/plain": [
              "tensor([[-9.3333]])"
            ]
          },
          "metadata": {},
          "execution_count": 13
        }
      ]
    },
    {
      "cell_type": "code",
      "source": [
        "bias.grad"
      ],
      "metadata": {
        "colab": {
          "base_uri": "https://localhost:8080/"
        },
        "id": "DeykyUYDirQ1",
        "outputId": "e03f9eb0-f04a-41c4-adb5-acdd42703cfb"
      },
      "execution_count": 14,
      "outputs": [
        {
          "output_type": "execute_result",
          "data": {
            "text/plain": [
              "tensor([[-4.]])"
            ]
          },
          "metadata": {},
          "execution_count": 14
        }
      ]
    },
    {
      "cell_type": "code",
      "source": [],
      "metadata": {
        "id": "e257JLwCiv11"
      },
      "execution_count": null,
      "outputs": []
    }
  ]
}