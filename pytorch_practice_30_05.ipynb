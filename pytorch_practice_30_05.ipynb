{
  "nbformat": 4,
  "nbformat_minor": 0,
  "metadata": {
    "colab": {
      "provenance": [],
      "gpuType": "T4",
      "authorship_tag": "ABX9TyN+MEM6UYg2onl96XSeE46D",
      "include_colab_link": true
    },
    "kernelspec": {
      "name": "python3",
      "display_name": "Python 3"
    },
    "language_info": {
      "name": "python"
    },
    "accelerator": "GPU"
  },
  "cells": [
    {
      "cell_type": "markdown",
      "metadata": {
        "id": "view-in-github",
        "colab_type": "text"
      },
      "source": [
        "<a href=\"https://colab.research.google.com/github/atulnath/Pytorch-Practice/blob/main/pytorch_practice_30_05.ipynb\" target=\"_parent\"><img src=\"https://colab.research.google.com/assets/colab-badge.svg\" alt=\"Open In Colab\"/></a>"
      ]
    },
    {
      "cell_type": "code",
      "execution_count": 6,
      "metadata": {
        "colab": {
          "base_uri": "https://localhost:8080/"
        },
        "id": "Ox-HJbb_Q3h8",
        "outputId": "b6be8205-280f-4ddf-b56b-54392c1bb806"
      },
      "outputs": [
        {
          "output_type": "stream",
          "name": "stdout",
          "text": [
            "2.6.0+cu124\n",
            "tensor(7)\n",
            "0\n",
            "7\n"
          ]
        }
      ],
      "source": [
        "import torch\n",
        "\n",
        "\n",
        "print(torch.__version__)\n",
        "\n",
        "#Zero dimension tensor(Scaler)\n",
        "scalar = torch.tensor(7)\n",
        "print(scalar)\n",
        "print(scalar.ndim)\n",
        "\n",
        "#For one element tensor we can use item() to get item\n",
        "\n",
        "print(scalar.item())"
      ]
    },
    {
      "cell_type": "markdown",
      "source": [
        "#Vector\n",
        "\n",
        "one dimension tensor with multiple values in it"
      ],
      "metadata": {
        "id": "y8tZ9QVER9GT"
      }
    },
    {
      "cell_type": "code",
      "source": [
        "vector = torch.tensor([7,8])\n",
        "print(vector)\n",
        "print(vector.ndim)"
      ],
      "metadata": {
        "colab": {
          "base_uri": "https://localhost:8080/"
        },
        "id": "y1wk2PdKSAJR",
        "outputId": "56460e20-dde1-4480-f2fb-77f1679afc40"
      },
      "execution_count": 10,
      "outputs": [
        {
          "output_type": "stream",
          "name": "stdout",
          "text": [
            "tensor([7, 8])\n",
            "<built-in method size of Tensor object at 0x7c2b31dd0f50>\n",
            "1\n"
          ]
        }
      ]
    },
    {
      "cell_type": "markdown",
      "source": [
        "#Matrix"
      ],
      "metadata": {
        "id": "EfEYZEWzSd57"
      }
    },
    {
      "cell_type": "code",
      "source": [
        "mat = torch.tensor([[7,8],[9,10]])\n",
        "print(mat)\n",
        "print(mat.ndim)"
      ],
      "metadata": {
        "colab": {
          "base_uri": "https://localhost:8080/"
        },
        "id": "6hduPQzDSfYR",
        "outputId": "186e6015-dd66-4116-f309-8460c66c81f7"
      },
      "execution_count": 12,
      "outputs": [
        {
          "output_type": "stream",
          "name": "stdout",
          "text": [
            "tensor([[ 7,  8],\n",
            "        [ 9, 10]])\n",
            "2\n"
          ]
        }
      ]
    },
    {
      "cell_type": "markdown",
      "source": [
        "#tensor\n",
        "multiple dimensions"
      ],
      "metadata": {
        "id": "7QqVRkYsSy4C"
      }
    },
    {
      "cell_type": "code",
      "source": [
        "ten = torch.tensor([[[7,8],[9,10]],[[1,2],[3,4]]])\n",
        "print(ten)\n",
        "print(ten.ndim)\n",
        "print(\"Shape: \",ten.shape)"
      ],
      "metadata": {
        "colab": {
          "base_uri": "https://localhost:8080/"
        },
        "id": "cjlTmqAgS2fq",
        "outputId": "002e778d-ee45-4a86-e12f-db344b9ffe31"
      },
      "execution_count": 14,
      "outputs": [
        {
          "output_type": "stream",
          "name": "stdout",
          "text": [
            "tensor([[[ 7,  8],\n",
            "         [ 9, 10]],\n",
            "\n",
            "        [[ 1,  2],\n",
            "         [ 3,  4]]])\n",
            "3\n",
            "Shape:  torch.Size([2, 2, 2])\n"
          ]
        }
      ]
    },
    {
      "cell_type": "markdown",
      "source": [
        "#Random number"
      ],
      "metadata": {
        "id": "CZIgRTrBTpj7"
      }
    },
    {
      "cell_type": "code",
      "source": [
        "random_tensor=torch.rand(size=(3,4))\n",
        "random_tensor,random_tensor.dtype"
      ],
      "metadata": {
        "colab": {
          "base_uri": "https://localhost:8080/"
        },
        "id": "TExpaUJPTsrB",
        "outputId": "f6ee64e5-89f5-4095-b162-18ee78679b24"
      },
      "execution_count": 15,
      "outputs": [
        {
          "output_type": "execute_result",
          "data": {
            "text/plain": [
              "(tensor([[0.1547, 0.1326, 0.4160, 0.7314],\n",
              "         [0.4911, 0.3141, 0.8308, 0.5727],\n",
              "         [0.5285, 0.8352, 0.6165, 0.5295]]),\n",
              " torch.float32)"
            ]
          },
          "metadata": {},
          "execution_count": 15
        }
      ]
    },
    {
      "cell_type": "code",
      "source": [
        "#Image using random tensor\n",
        "\n",
        "random_image = torch.rand(size=(224,244,3))\n",
        "print(random_image, random_image.shape)"
      ],
      "metadata": {
        "colab": {
          "base_uri": "https://localhost:8080/"
        },
        "id": "rRyrcWjAT70J",
        "outputId": "64d53baf-b528-437b-91e4-52997a2f6e3a"
      },
      "execution_count": 16,
      "outputs": [
        {
          "output_type": "stream",
          "name": "stdout",
          "text": [
            "tensor([[[0.6189, 0.0380, 0.1408],\n",
            "         [0.3393, 0.0844, 0.5423],\n",
            "         [0.3408, 0.7401, 0.9581],\n",
            "         ...,\n",
            "         [0.8927, 0.9117, 0.9753],\n",
            "         [0.7993, 0.9257, 0.0401],\n",
            "         [0.9260, 0.6908, 0.6476]],\n",
            "\n",
            "        [[0.5559, 0.2879, 0.6161],\n",
            "         [0.5658, 0.1126, 0.1854],\n",
            "         [0.7643, 0.9114, 0.0980],\n",
            "         ...,\n",
            "         [0.6445, 0.2988, 0.9644],\n",
            "         [0.1532, 0.0868, 0.0861],\n",
            "         [0.4758, 0.6408, 0.8978]],\n",
            "\n",
            "        [[0.8210, 0.7040, 0.0314],\n",
            "         [0.9347, 0.7969, 0.6745],\n",
            "         [0.3792, 0.1846, 0.9543],\n",
            "         ...,\n",
            "         [0.4269, 0.5362, 0.6795],\n",
            "         [0.1647, 0.5001, 0.0460],\n",
            "         [0.8734, 0.8787, 0.4380]],\n",
            "\n",
            "        ...,\n",
            "\n",
            "        [[0.2809, 0.9928, 0.1058],\n",
            "         [0.2179, 0.0798, 0.4629],\n",
            "         [0.1341, 0.9078, 0.8416],\n",
            "         ...,\n",
            "         [0.4337, 0.0214, 0.9417],\n",
            "         [0.2957, 0.9022, 0.0631],\n",
            "         [0.7568, 0.6557, 0.8322]],\n",
            "\n",
            "        [[0.2529, 0.4449, 0.2095],\n",
            "         [0.6768, 0.9659, 0.1301],\n",
            "         [0.8793, 0.1782, 0.2414],\n",
            "         ...,\n",
            "         [0.4324, 0.6971, 0.6406],\n",
            "         [0.8960, 0.8052, 0.9855],\n",
            "         [0.2288, 0.8819, 0.0289]],\n",
            "\n",
            "        [[0.8248, 0.1097, 0.7031],\n",
            "         [0.8300, 0.5731, 0.2287],\n",
            "         [0.5428, 0.3541, 0.2626],\n",
            "         ...,\n",
            "         [0.3433, 0.7951, 0.5916],\n",
            "         [0.2485, 0.4155, 0.8416],\n",
            "         [0.8263, 0.3973, 0.8911]]]) torch.Size([224, 244, 3])\n"
          ]
        }
      ]
    },
    {
      "cell_type": "markdown",
      "source": [
        "#Zeros and Ones tensors"
      ],
      "metadata": {
        "id": "kCQK3HqCUeMB"
      }
    },
    {
      "cell_type": "code",
      "source": [
        "zeros= torch.zeros(size=(3,4))\n",
        "ones= torch.ones(size=(3,4))\n",
        "zeros, ones"
      ],
      "metadata": {
        "colab": {
          "base_uri": "https://localhost:8080/"
        },
        "id": "y3_u4gqiUiWh",
        "outputId": "edc6a4fc-243d-46a5-d6bd-21723b4c5b58"
      },
      "execution_count": 20,
      "outputs": [
        {
          "output_type": "execute_result",
          "data": {
            "text/plain": [
              "(tensor([[0., 0., 0., 0.],\n",
              "         [0., 0., 0., 0.],\n",
              "         [0., 0., 0., 0.]]),\n",
              " tensor([[1., 1., 1., 1.],\n",
              "         [1., 1., 1., 1.],\n",
              "         [1., 1., 1., 1.]]))"
            ]
          },
          "metadata": {},
          "execution_count": 20
        }
      ]
    },
    {
      "cell_type": "markdown",
      "source": [
        "#Range in tensor"
      ],
      "metadata": {
        "id": "vAVu8EKkU8lD"
      }
    },
    {
      "cell_type": "code",
      "source": [
        "nums= torch.arange(10)\n",
        "zeros_tens_like_nums= torch.zeros_like(input=nums)\n",
        "\n",
        "nums,zeros_tens_like_nums"
      ],
      "metadata": {
        "colab": {
          "base_uri": "https://localhost:8080/"
        },
        "id": "uAVTBU_uU-9p",
        "outputId": "020f4813-13e8-4508-f03d-25f0f5e87e3b"
      },
      "execution_count": 22,
      "outputs": [
        {
          "output_type": "execute_result",
          "data": {
            "text/plain": [
              "(tensor([0, 1, 2, 3, 4, 5, 6, 7, 8, 9]),\n",
              " tensor([0, 0, 0, 0, 0, 0, 0, 0, 0, 0]))"
            ]
          },
          "metadata": {},
          "execution_count": 22
        }
      ]
    },
    {
      "cell_type": "markdown",
      "source": [
        "#Info about a tensor\n",
        "shape, dtype, device(GPU,CPU)"
      ],
      "metadata": {
        "id": "xG5v_wSyViAg"
      }
    },
    {
      "cell_type": "code",
      "source": [
        "rand_tensor= torch.rand(size=(3,4))\n",
        "rand_tensor, rand_tensor.dtype, rand_tensor.device"
      ],
      "metadata": {
        "colab": {
          "base_uri": "https://localhost:8080/"
        },
        "id": "e9s6IyFSVtLr",
        "outputId": "60136d7f-12c8-49fa-a559-befa615907ba"
      },
      "execution_count": 24,
      "outputs": [
        {
          "output_type": "execute_result",
          "data": {
            "text/plain": [
              "(tensor([[0.9843, 0.9836, 0.4472, 0.3434],\n",
              "         [0.5967, 0.6735, 0.0152, 0.3689],\n",
              "         [0.0065, 0.4484, 0.8093, 0.8366]]),\n",
              " torch.float32,\n",
              " device(type='cpu'))"
            ]
          },
          "metadata": {},
          "execution_count": 24
        }
      ]
    },
    {
      "cell_type": "markdown",
      "source": [
        "#Tensor Manipulations"
      ],
      "metadata": {
        "id": "G7toGH-0WF4D"
      }
    },
    {
      "cell_type": "code",
      "source": [
        "tens= torch.tensor([2,3,4])\n",
        "tens + 10, tens - 1, tens * 2"
      ],
      "metadata": {
        "colab": {
          "base_uri": "https://localhost:8080/"
        },
        "id": "f3lNlxLgWJDh",
        "outputId": "1452e353-9d43-48e1-b48b-4ff8e36ec90c"
      },
      "execution_count": 25,
      "outputs": [
        {
          "output_type": "execute_result",
          "data": {
            "text/plain": [
              "(tensor([12, 13, 14]), tensor([1, 2, 3]), tensor([4, 6, 8]))"
            ]
          },
          "metadata": {},
          "execution_count": 25
        }
      ]
    },
    {
      "cell_type": "code",
      "source": [
        "#Replacing the value\n",
        "\n",
        "tens = tens + 9\n",
        "tens"
      ],
      "metadata": {
        "colab": {
          "base_uri": "https://localhost:8080/"
        },
        "id": "7AnLQoBzWdMI",
        "outputId": "77745ca2-38bc-40ab-8986-816e4cb582d7"
      },
      "execution_count": 26,
      "outputs": [
        {
          "output_type": "execute_result",
          "data": {
            "text/plain": [
              "tensor([11, 12, 13])"
            ]
          },
          "metadata": {},
          "execution_count": 26
        }
      ]
    },
    {
      "cell_type": "markdown",
      "source": [
        "# Multiply builtin function"
      ],
      "metadata": {
        "id": "D7UpR8DBWpGa"
      }
    },
    {
      "cell_type": "code",
      "source": [
        "tens_01 = torch.multiply(tens, 3)\n",
        "print(tens_01)"
      ],
      "metadata": {
        "colab": {
          "base_uri": "https://localhost:8080/"
        },
        "id": "VlXei2o8WuhI",
        "outputId": "862bb6af-a8b2-4702-b1c1-f1c38cf6d445"
      },
      "execution_count": 28,
      "outputs": [
        {
          "output_type": "stream",
          "name": "stdout",
          "text": [
            "tensor([33, 36, 39])\n"
          ]
        }
      ]
    },
    {
      "cell_type": "markdown",
      "source": [
        "#multiply between two tensors"
      ],
      "metadata": {
        "id": "xU6_62KpW-b5"
      }
    },
    {
      "cell_type": "code",
      "source": [
        "tens1 = torch.tensor([2,3,5])\n",
        "tens2 = torch.tensor([4,7,8])\n",
        "\n",
        "tens1 * tens2"
      ],
      "metadata": {
        "colab": {
          "base_uri": "https://localhost:8080/"
        },
        "id": "K6bGAUHjXI-x",
        "outputId": "5e94fab2-32d4-499c-da13-2ed16e2bb5ca"
      },
      "execution_count": 29,
      "outputs": [
        {
          "output_type": "execute_result",
          "data": {
            "text/plain": [
              "tensor([ 8, 21, 40])"
            ]
          },
          "metadata": {},
          "execution_count": 29
        }
      ]
    }
  ]
}