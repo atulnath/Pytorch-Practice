{
  "nbformat": 4,
  "nbformat_minor": 0,
  "metadata": {
    "colab": {
      "provenance": [],
      "authorship_tag": "ABX9TyMYYKcqmPg2iO8B3kkRJZ4d",
      "include_colab_link": true
    },
    "kernelspec": {
      "name": "python3",
      "display_name": "Python 3"
    },
    "language_info": {
      "name": "python"
    }
  },
  "cells": [
    {
      "cell_type": "markdown",
      "metadata": {
        "id": "view-in-github",
        "colab_type": "text"
      },
      "source": [
        "<a href=\"https://colab.research.google.com/github/atulnath/Pytorch-Practice/blob/main/pytorch_basics.ipynb\" target=\"_parent\"><img src=\"https://colab.research.google.com/assets/colab-badge.svg\" alt=\"Open In Colab\"/></a>"
      ]
    },
    {
      "cell_type": "code",
      "execution_count": 1,
      "metadata": {
        "id": "j4--pP_iemWC"
      },
      "outputs": [],
      "source": [
        "# Importing pytorch\n",
        "\n",
        "import torch\n",
        "import torch.nn as nn"
      ]
    },
    {
      "cell_type": "code",
      "source": [
        "# Lets create tensor with 2 x 3 matrix\n",
        "\n",
        "x = torch.tensor([[1,2,3],[4,5,6]])\n",
        "x"
      ],
      "metadata": {
        "colab": {
          "base_uri": "https://localhost:8080/"
        },
        "id": "_JwwrMaHezUA",
        "outputId": "a732fc99-50ae-4a5c-cdaf-630f326fe32b"
      },
      "execution_count": 2,
      "outputs": [
        {
          "output_type": "execute_result",
          "data": {
            "text/plain": [
              "tensor([[1, 2, 3],\n",
              "        [4, 5, 6]])"
            ]
          },
          "metadata": {},
          "execution_count": 2
        }
      ]
    },
    {
      "cell_type": "code",
      "source": [
        "x.shape # it shows dimensions of tensors"
      ],
      "metadata": {
        "colab": {
          "base_uri": "https://localhost:8080/"
        },
        "id": "FmSkouqJe7eG",
        "outputId": "91684ca8-fd39-4b14-a684-d800cd158f3a"
      },
      "execution_count": 3,
      "outputs": [
        {
          "output_type": "execute_result",
          "data": {
            "text/plain": [
              "torch.Size([2, 3])"
            ]
          },
          "metadata": {},
          "execution_count": 3
        }
      ]
    },
    {
      "cell_type": "code",
      "source": [
        "# Lets create a random tensor\n",
        "\n",
        "random_tens = torch.rand(2,3)\n",
        "random_tens # values are betwee 0 and 1"
      ],
      "metadata": {
        "colab": {
          "base_uri": "https://localhost:8080/"
        },
        "id": "zbxn2vGNfC-K",
        "outputId": "b6be1146-364f-4b97-d4bb-e4dbf8e79b8a"
      },
      "execution_count": 4,
      "outputs": [
        {
          "output_type": "execute_result",
          "data": {
            "text/plain": [
              "tensor([[0.7364, 0.7217, 0.4377],\n",
              "        [0.6631, 0.2163, 0.3532]])"
            ]
          },
          "metadata": {},
          "execution_count": 4
        }
      ]
    },
    {
      "cell_type": "code",
      "source": [
        "# Tensor common operations: +, -, *, /\n",
        "\n",
        "sum_tens = x + random_tens\n",
        "sum_tens"
      ],
      "metadata": {
        "colab": {
          "base_uri": "https://localhost:8080/"
        },
        "id": "eB6-kpjvfQw5",
        "outputId": "157d55ef-abce-4793-fb06-bbb6990b40dd"
      },
      "execution_count": 5,
      "outputs": [
        {
          "output_type": "execute_result",
          "data": {
            "text/plain": [
              "tensor([[1.7364, 2.7217, 3.4377],\n",
              "        [4.6631, 5.2163, 6.3532]])"
            ]
          },
          "metadata": {},
          "execution_count": 5
        }
      ]
    },
    {
      "cell_type": "code",
      "source": [
        "# For making gradient tensor\n",
        "ones_tens = torch.ones(2,3, requires_grad=True)\n",
        "ones_tens"
      ],
      "metadata": {
        "colab": {
          "base_uri": "https://localhost:8080/"
        },
        "id": "YQ4dWeegfcUf",
        "outputId": "16cb1914-8841-4b71-9921-1d61f4386a1a"
      },
      "execution_count": 8,
      "outputs": [
        {
          "output_type": "execute_result",
          "data": {
            "text/plain": [
              "tensor([[1., 1., 1.],\n",
              "        [1., 1., 1.]], requires_grad=True)"
            ]
          },
          "metadata": {},
          "execution_count": 8
        }
      ]
    },
    {
      "cell_type": "code",
      "source": [
        "# y = x ** 2 means square of x\n",
        "\n",
        "y = x ** 2\n",
        "y"
      ],
      "metadata": {
        "colab": {
          "base_uri": "https://localhost:8080/"
        },
        "id": "B_Oo5-8cf2Gu",
        "outputId": "617673a8-4526-4d76-86d0-6a729e85e9c8"
      },
      "execution_count": 9,
      "outputs": [
        {
          "output_type": "execute_result",
          "data": {
            "text/plain": [
              "tensor([[ 1,  4,  9],\n",
              "        [16, 25, 36]])"
            ]
          },
          "metadata": {},
          "execution_count": 9
        }
      ]
    },
    {
      "cell_type": "code",
      "source": [
        "grad_tens = ones_tens ** 2\n",
        "grad_tens"
      ],
      "metadata": {
        "colab": {
          "base_uri": "https://localhost:8080/"
        },
        "id": "lgPDTFQzgCWu",
        "outputId": "ad49c1d0-15ca-4946-c5e7-0ccd8da28ebf"
      },
      "execution_count": 10,
      "outputs": [
        {
          "output_type": "execute_result",
          "data": {
            "text/plain": [
              "tensor([[1., 1., 1.],\n",
              "        [1., 1., 1.]], grad_fn=<PowBackward0>)"
            ]
          },
          "metadata": {},
          "execution_count": 10
        }
      ]
    },
    {
      "cell_type": "code",
      "source": [
        "grad_tens.backward(torch.ones_like(grad_tens))"
      ],
      "metadata": {
        "id": "8kRkzhSzgaV2"
      },
      "execution_count": 11,
      "outputs": []
    },
    {
      "cell_type": "code",
      "source": [
        "ones_tens.grad"
      ],
      "metadata": {
        "colab": {
          "base_uri": "https://localhost:8080/"
        },
        "id": "BfdyavoMgpMm",
        "outputId": "fb8a8ada-49a3-43a4-eacf-91afa201a029"
      },
      "execution_count": 12,
      "outputs": [
        {
          "output_type": "execute_result",
          "data": {
            "text/plain": [
              "tensor([[2., 2., 2.],\n",
              "        [2., 2., 2.]])"
            ]
          },
          "metadata": {},
          "execution_count": 12
        }
      ]
    },
    {
      "cell_type": "code",
      "source": [
        "class Net(nn.Module):\n",
        "    def __init__(self):\n",
        "        super(Net, self).__init__()\n",
        "        self.fc1 = nn.Linear(2, 4) # 2 input and 4 output (full connected layer fc1)\n",
        "        self.fc2 = nn.Linear(4, 1) # 4 input, 1 ouput (full connected layer fc2)\n",
        "\n",
        "    def forward(self, x):\n",
        "        x = torch.relu(self.fc1(x)) # relu activation function\n",
        "        x = self.fc2(x)\n",
        "        return x\n",
        "model = Net()\n",
        "print(model)"
      ],
      "metadata": {
        "colab": {
          "base_uri": "https://localhost:8080/"
        },
        "id": "xQqfQEc7gzN9",
        "outputId": "b8fa970f-0081-4c9c-b263-4de4312d1ae0"
      },
      "execution_count": 13,
      "outputs": [
        {
          "output_type": "stream",
          "name": "stdout",
          "text": [
            "Net(\n",
            "  (fc1): Linear(in_features=2, out_features=4, bias=True)\n",
            "  (fc2): Linear(in_features=4, out_features=1, bias=True)\n",
            ")\n"
          ]
        }
      ]
    },
    {
      "cell_type": "code",
      "source": [
        "# Loss function\n",
        "\n",
        "loss = nn.MSELoss()\n",
        "optimization = torch.optim.SGD(model.parameters(), lr=0.01)\n",
        "\n",
        "# Here MSE loss function, SGD optimizer and lr is learning rate"
      ],
      "metadata": {
        "id": "YiRApFVBiTX9"
      },
      "execution_count": 14,
      "outputs": []
    },
    {
      "cell_type": "code",
      "source": [
        "x_train = torch.tensor([[1, 2], [3, 4], [5, 6]], dtype=torch.float32)\n",
        "y_train = torch.tensor([[3], [7], [11]], dtype=torch.float32)"
      ],
      "metadata": {
        "id": "Wfkydoj3jExs"
      },
      "execution_count": 16,
      "outputs": []
    },
    {
      "cell_type": "code",
      "source": [
        "for epoach in range(100):\n",
        "  optimization.zero_grad()\n",
        "  output = model(x_train)\n",
        "  loss_value = loss(output, y_train)\n",
        "  loss_value.backward()\n",
        "  optimization.step()\n",
        "\n",
        "print(model(x_train))"
      ],
      "metadata": {
        "colab": {
          "base_uri": "https://localhost:8080/"
        },
        "id": "lJkEGyi_iwko",
        "outputId": "c1c0b481-b709-46fc-aa2f-3fedbb19d686"
      },
      "execution_count": 17,
      "outputs": [
        {
          "output_type": "stream",
          "name": "stdout",
          "text": [
            "tensor([[ 3.1219],\n",
            "        [ 7.0333],\n",
            "        [10.9447]], grad_fn=<AddmmBackward0>)\n"
          ]
        }
      ]
    },
    {
      "cell_type": "code",
      "source": [
        "output = model(x_train)\n",
        "print(output)"
      ],
      "metadata": {
        "colab": {
          "base_uri": "https://localhost:8080/"
        },
        "id": "iS74-Endjjsk",
        "outputId": "828b5c17-dc4f-4ec1-8af4-6ffad25845dc"
      },
      "execution_count": 18,
      "outputs": [
        {
          "output_type": "stream",
          "name": "stdout",
          "text": [
            "tensor([[ 3.1219],\n",
            "        [ 7.0333],\n",
            "        [10.9447]], grad_fn=<AddmmBackward0>)\n"
          ]
        }
      ]
    },
    {
      "cell_type": "code",
      "source": [
        "print(f' Final loss: {loss_value.item()}')"
      ],
      "metadata": {
        "colab": {
          "base_uri": "https://localhost:8080/"
        },
        "id": "OLXgd8VflNVh",
        "outputId": "a5db2296-adfe-44a7-aca8-43a1ee042fc0"
      },
      "execution_count": 19,
      "outputs": [
        {
          "output_type": "stream",
          "name": "stdout",
          "text": [
            " Final loss: 0.006490430328994989\n"
          ]
        }
      ]
    },
    {
      "cell_type": "code",
      "source": [
        "x_test= torch.tensor([[2,3]], dtype=torch.float32)\n",
        "print(model(x_test))"
      ],
      "metadata": {
        "colab": {
          "base_uri": "https://localhost:8080/"
        },
        "id": "NgjKuUt_laXU",
        "outputId": "f1855284-e1f3-4bce-d165-fe96feb41b0e"
      },
      "execution_count": 21,
      "outputs": [
        {
          "output_type": "stream",
          "name": "stdout",
          "text": [
            "tensor([[5.0776]], grad_fn=<AddmmBackward0>)\n"
          ]
        }
      ]
    },
    {
      "cell_type": "code",
      "source": [
        "test_output = model(x_test)\n",
        "print(test_output)"
      ],
      "metadata": {
        "colab": {
          "base_uri": "https://localhost:8080/"
        },
        "id": "zO5GriE3ljkr",
        "outputId": "978c2471-91e2-43dc-f91f-10097445382f"
      },
      "execution_count": 23,
      "outputs": [
        {
          "output_type": "stream",
          "name": "stdout",
          "text": [
            "tensor([[5.0776]], grad_fn=<AddmmBackward0>)\n"
          ]
        }
      ]
    },
    {
      "cell_type": "code",
      "source": [
        "print(f'Test Predic: {test_output.item()}')"
      ],
      "metadata": {
        "colab": {
          "base_uri": "https://localhost:8080/"
        },
        "id": "YWUyaYr0l_OM",
        "outputId": "d6d666c1-b5ac-40cc-fe96-77cb1cea23fd"
      },
      "execution_count": 24,
      "outputs": [
        {
          "output_type": "stream",
          "name": "stdout",
          "text": [
            "Test Predic: 5.07763671875\n"
          ]
        }
      ]
    }
  ]
}