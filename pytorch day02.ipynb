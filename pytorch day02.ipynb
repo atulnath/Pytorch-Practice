{
  "nbformat": 4,
  "nbformat_minor": 0,
  "metadata": {
    "colab": {
      "provenance": [],
      "authorship_tag": "ABX9TyPDDv35I/lOJ3ieSDO3yJuK",
      "include_colab_link": true
    },
    "kernelspec": {
      "name": "python3",
      "display_name": "Python 3"
    },
    "language_info": {
      "name": "python"
    }
  },
  "cells": [
    {
      "cell_type": "markdown",
      "metadata": {
        "id": "view-in-github",
        "colab_type": "text"
      },
      "source": [
        "<a href=\"https://colab.research.google.com/github/atulnath/Pytorch-Practice/blob/main/pytorch%20day02.ipynb\" target=\"_parent\"><img src=\"https://colab.research.google.com/assets/colab-badge.svg\" alt=\"Open In Colab\"/></a>"
      ]
    },
    {
      "cell_type": "markdown",
      "source": [
        "## Random tensors"
      ],
      "metadata": {
        "id": "2NpSJ8rkPXLm"
      }
    },
    {
      "cell_type": "code",
      "source": [
        "import torch"
      ],
      "metadata": {
        "id": "OlliR-igPd1V"
      },
      "execution_count": 1,
      "outputs": []
    },
    {
      "cell_type": "code",
      "source": [
        "rand_tensor=torch.rand(3,4)\n",
        "rand_tensor"
      ],
      "metadata": {
        "colab": {
          "base_uri": "https://localhost:8080/"
        },
        "id": "or6PaeGiPlsH",
        "outputId": "966bb83c-688a-49aa-8679-99b801df934f"
      },
      "execution_count": 2,
      "outputs": [
        {
          "output_type": "execute_result",
          "data": {
            "text/plain": [
              "tensor([[0.7297, 0.0701, 0.3420, 0.5735],\n",
              "        [0.1869, 0.9853, 0.0300, 0.1019],\n",
              "        [0.9615, 0.8174, 0.4782, 0.2355]])"
            ]
          },
          "metadata": {},
          "execution_count": 2
        }
      ]
    },
    {
      "cell_type": "code",
      "source": [
        "big_rand_tensor=torch.rand((1,3,4))\n",
        "big_rand_tensor"
      ],
      "metadata": {
        "colab": {
          "base_uri": "https://localhost:8080/"
        },
        "id": "wv3SsTVdP3hV",
        "outputId": "a5c6e4a2-c73f-48de-f38d-b9f9b136acbe"
      },
      "execution_count": 3,
      "outputs": [
        {
          "output_type": "execute_result",
          "data": {
            "text/plain": [
              "tensor([[[0.2448, 0.0256, 0.2323, 0.2268],\n",
              "         [0.6808, 0.3113, 0.8516, 0.4659],\n",
              "         [0.6143, 0.6527, 0.7935, 0.2892]]])"
            ]
          },
          "metadata": {},
          "execution_count": 3
        }
      ]
    },
    {
      "cell_type": "markdown",
      "source": [
        "## Zeros and ones"
      ],
      "metadata": {
        "id": "8Gq74E8VRhCE"
      }
    },
    {
      "cell_type": "code",
      "source": [
        "zeros=torch.zeros(3,4)\n",
        "zeros"
      ],
      "metadata": {
        "colab": {
          "base_uri": "https://localhost:8080/"
        },
        "id": "QGDumtfiQcLk",
        "outputId": "cf0e350a-6bf5-468e-81bf-1e90eff23172"
      },
      "execution_count": 4,
      "outputs": [
        {
          "output_type": "execute_result",
          "data": {
            "text/plain": [
              "tensor([[0., 0., 0., 0.],\n",
              "        [0., 0., 0., 0.],\n",
              "        [0., 0., 0., 0.]])"
            ]
          },
          "metadata": {},
          "execution_count": 4
        }
      ]
    },
    {
      "cell_type": "code",
      "source": [
        "zeros = torch.ones((1,3,4))\n",
        "zeros"
      ],
      "metadata": {
        "colab": {
          "base_uri": "https://localhost:8080/"
        },
        "id": "YznipaAvRoGW",
        "outputId": "731fdb59-f88b-41a3-f03b-6ec124045464"
      },
      "execution_count": 5,
      "outputs": [
        {
          "output_type": "execute_result",
          "data": {
            "text/plain": [
              "tensor([[[1., 1., 1., 1.],\n",
              "         [1., 1., 1., 1.],\n",
              "         [1., 1., 1., 1.]]])"
            ]
          },
          "metadata": {},
          "execution_count": 5
        }
      ]
    },
    {
      "cell_type": "markdown",
      "source": [
        "## arrange"
      ],
      "metadata": {
        "id": "OQdkX-2QR8fr"
      }
    },
    {
      "cell_type": "code",
      "source": [
        "list_of_numbers=torch.arange(start=0,end=10,step=1)\n",
        "list_of_numbers"
      ],
      "metadata": {
        "colab": {
          "base_uri": "https://localhost:8080/"
        },
        "id": "K3EeNN1CSJ8O",
        "outputId": "d7b7d7f3-3f6c-402a-d8ed-b40e93fe5de9"
      },
      "execution_count": 6,
      "outputs": [
        {
          "output_type": "execute_result",
          "data": {
            "text/plain": [
              "tensor([0, 1, 2, 3, 4, 5, 6, 7, 8, 9])"
            ]
          },
          "metadata": {},
          "execution_count": 6
        }
      ]
    },
    {
      "cell_type": "markdown",
      "source": [
        "## tensor like"
      ],
      "metadata": {
        "id": "xU_p9azuTXFG"
      }
    },
    {
      "cell_type": "code",
      "source": [
        "rand_tens = torch.rand(3,4)\n",
        "rand_tens"
      ],
      "metadata": {
        "colab": {
          "base_uri": "https://localhost:8080/"
        },
        "id": "TfYTZqHETZyW",
        "outputId": "7aa54b80-0a44-48fa-85d3-ef8ba5ed89f2"
      },
      "execution_count": 7,
      "outputs": [
        {
          "output_type": "execute_result",
          "data": {
            "text/plain": [
              "tensor([[0.0564, 0.3980, 0.5512, 0.5426],\n",
              "        [0.0932, 0.1503, 0.7920, 0.0778],\n",
              "        [0.3012, 0.2004, 0.0926, 0.2109]])"
            ]
          },
          "metadata": {},
          "execution_count": 7
        }
      ]
    },
    {
      "cell_type": "code",
      "source": [
        "zeros_like=torch.zeros_like(rand_tens)\n",
        "zeros_like"
      ],
      "metadata": {
        "colab": {
          "base_uri": "https://localhost:8080/"
        },
        "id": "4n0mk3tETo89",
        "outputId": "b81c5eb8-cd23-4bb5-d8a4-4245b769f549"
      },
      "execution_count": 8,
      "outputs": [
        {
          "output_type": "execute_result",
          "data": {
            "text/plain": [
              "tensor([[0., 0., 0., 0.],\n",
              "        [0., 0., 0., 0.],\n",
              "        [0., 0., 0., 0.]])"
            ]
          },
          "metadata": {},
          "execution_count": 8
        }
      ]
    },
    {
      "cell_type": "code",
      "source": [
        "one_like = torch.ones_like(rand_tens)\n",
        "one_like"
      ],
      "metadata": {
        "colab": {
          "base_uri": "https://localhost:8080/"
        },
        "id": "ZWXGjQ0iTwHT",
        "outputId": "1a717fa5-6019-44ac-ad68-f36f767af3ad"
      },
      "execution_count": 9,
      "outputs": [
        {
          "output_type": "execute_result",
          "data": {
            "text/plain": [
              "tensor([[1., 1., 1., 1.],\n",
              "        [1., 1., 1., 1.],\n",
              "        [1., 1., 1., 1.]])"
            ]
          },
          "metadata": {},
          "execution_count": 9
        }
      ]
    },
    {
      "cell_type": "markdown",
      "source": [
        "## Eye"
      ],
      "metadata": {
        "id": "9xbURueGUWLT"
      }
    },
    {
      "cell_type": "code",
      "source": [
        "eye_tensor = torch.eye(5)\n",
        "eye_tensor"
      ],
      "metadata": {
        "colab": {
          "base_uri": "https://localhost:8080/"
        },
        "id": "XybD7XqnUX-G",
        "outputId": "de09c613-352e-4892-8906-0cf9f9a57812"
      },
      "execution_count": 10,
      "outputs": [
        {
          "output_type": "execute_result",
          "data": {
            "text/plain": [
              "tensor([[1., 0., 0., 0., 0.],\n",
              "        [0., 1., 0., 0., 0.],\n",
              "        [0., 0., 1., 0., 0.],\n",
              "        [0., 0., 0., 1., 0.],\n",
              "        [0., 0., 0., 0., 1.]])"
            ]
          },
          "metadata": {},
          "execution_count": 10
        }
      ]
    },
    {
      "cell_type": "code",
      "source": [
        "# Full tensor\n",
        "full_tensor = torch.full((2,3),5)\n",
        "full_tensor"
      ],
      "metadata": {
        "colab": {
          "base_uri": "https://localhost:8080/"
        },
        "id": "r6cSQGSGUbOg",
        "outputId": "df4823ff-f1e1-4bdb-c723-ccbab11dceb4"
      },
      "execution_count": 11,
      "outputs": [
        {
          "output_type": "execute_result",
          "data": {
            "text/plain": [
              "tensor([[5, 5, 5],\n",
              "        [5, 5, 5]])"
            ]
          },
          "metadata": {},
          "execution_count": 11
        }
      ]
    },
    {
      "cell_type": "code",
      "source": [
        "# linspace\n",
        "linspace_tensor = torch.linspace(0,10,5) # go 0 to 10, divide into 5 times\n",
        "linspace_tensor"
      ],
      "metadata": {
        "colab": {
          "base_uri": "https://localhost:8080/"
        },
        "id": "5T7nXEtiVEoU",
        "outputId": "07c73db3-74f7-4123-ad28-1d90a403088b"
      },
      "execution_count": 12,
      "outputs": [
        {
          "output_type": "execute_result",
          "data": {
            "text/plain": [
              "tensor([ 0.0000,  2.5000,  5.0000,  7.5000, 10.0000])"
            ]
          },
          "metadata": {},
          "execution_count": 12
        }
      ]
    },
    {
      "cell_type": "code",
      "source": [],
      "metadata": {
        "id": "UsLcwxC2Vn00"
      },
      "execution_count": null,
      "outputs": []
    }
  ]
}