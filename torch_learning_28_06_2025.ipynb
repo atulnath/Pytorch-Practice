{
  "nbformat": 4,
  "nbformat_minor": 0,
  "metadata": {
    "colab": {
      "provenance": [],
      "authorship_tag": "ABX9TyP2suEO8x3un6qOoHwfXnfd",
      "include_colab_link": true
    },
    "kernelspec": {
      "name": "python3",
      "display_name": "Python 3"
    },
    "language_info": {
      "name": "python"
    }
  },
  "cells": [
    {
      "cell_type": "markdown",
      "metadata": {
        "id": "view-in-github",
        "colab_type": "text"
      },
      "source": [
        "<a href=\"https://colab.research.google.com/github/atulnath/Pytorch-Practice/blob/main/torch_learning_28_06_2025.ipynb\" target=\"_parent\"><img src=\"https://colab.research.google.com/assets/colab-badge.svg\" alt=\"Open In Colab\"/></a>"
      ]
    },
    {
      "cell_type": "code",
      "execution_count": 1,
      "metadata": {
        "colab": {
          "base_uri": "https://localhost:8080/",
          "height": 35
        },
        "id": "LUqWY-1gsPtW",
        "outputId": "27d203ed-528f-463a-c505-982c6ea6d2f6"
      },
      "outputs": [
        {
          "output_type": "execute_result",
          "data": {
            "text/plain": [
              "'2.6.0+cu124'"
            ],
            "application/vnd.google.colaboratory.intrinsic+json": {
              "type": "string"
            }
          },
          "metadata": {},
          "execution_count": 1
        }
      ],
      "source": [
        "import torch\n",
        "\n",
        "torch.__version__"
      ]
    },
    {
      "cell_type": "code",
      "source": [
        "# Scalar is zero dimension tensor, a single number\n",
        "\n",
        "scalar = torch.tensor(7)\n",
        "scalar"
      ],
      "metadata": {
        "colab": {
          "base_uri": "https://localhost:8080/"
        },
        "id": "2qe_ofDcs0T1",
        "outputId": "404128fe-8f73-4044-da52-8189703ce971"
      },
      "execution_count": 2,
      "outputs": [
        {
          "output_type": "execute_result",
          "data": {
            "text/plain": [
              "tensor(7)"
            ]
          },
          "metadata": {},
          "execution_count": 2
        }
      ]
    },
    {
      "cell_type": "code",
      "source": [
        "scalar.shape"
      ],
      "metadata": {
        "colab": {
          "base_uri": "https://localhost:8080/"
        },
        "id": "DpebJG-ItJ3j",
        "outputId": "b621cb19-39be-46f3-c92d-e5f43a2ff9b4"
      },
      "execution_count": 3,
      "outputs": [
        {
          "output_type": "execute_result",
          "data": {
            "text/plain": [
              "torch.Size([])"
            ]
          },
          "metadata": {},
          "execution_count": 3
        }
      ]
    },
    {
      "cell_type": "code",
      "source": [
        "scalar.ndim # checking the dimensions"
      ],
      "metadata": {
        "colab": {
          "base_uri": "https://localhost:8080/"
        },
        "id": "Ov555Gx4tOQ_",
        "outputId": "4089b9ce-e5cc-4b3d-ab16-4ca783c0b76d"
      },
      "execution_count": 4,
      "outputs": [
        {
          "output_type": "execute_result",
          "data": {
            "text/plain": [
              "0"
            ]
          },
          "metadata": {},
          "execution_count": 4
        }
      ]
    },
    {
      "cell_type": "code",
      "source": [
        "# accessing item in scalar tensor\n",
        "scalar.item()"
      ],
      "metadata": {
        "colab": {
          "base_uri": "https://localhost:8080/"
        },
        "id": "wdtY5jKHtSpe",
        "outputId": "91bb402f-4f06-4734-f548-a60604a7a16d"
      },
      "execution_count": 5,
      "outputs": [
        {
          "output_type": "execute_result",
          "data": {
            "text/plain": [
              "7"
            ]
          },
          "metadata": {},
          "execution_count": 5
        }
      ]
    },
    {
      "cell_type": "code",
      "source": [
        "# vector is 1D tensor, like list 1D list in python\n",
        "\n",
        "vector = torch.tensor([7, 7])\n",
        "vector"
      ],
      "metadata": {
        "colab": {
          "base_uri": "https://localhost:8080/"
        },
        "id": "dWKFHe6WtgcD",
        "outputId": "38bc1f03-1fec-4aab-a084-42b7e4047476"
      },
      "execution_count": 6,
      "outputs": [
        {
          "output_type": "execute_result",
          "data": {
            "text/plain": [
              "tensor([7, 7])"
            ]
          },
          "metadata": {},
          "execution_count": 6
        }
      ]
    },
    {
      "cell_type": "code",
      "source": [
        "vector.ndim"
      ],
      "metadata": {
        "colab": {
          "base_uri": "https://localhost:8080/"
        },
        "id": "ObdhD6PZuBUr",
        "outputId": "eeafbd66-b7e3-43d8-9837-ec9a6d458828"
      },
      "execution_count": 7,
      "outputs": [
        {
          "output_type": "execute_result",
          "data": {
            "text/plain": [
              "1"
            ]
          },
          "metadata": {},
          "execution_count": 7
        }
      ]
    },
    {
      "cell_type": "code",
      "source": [
        "vector.shape # shape return how many items in the vector"
      ],
      "metadata": {
        "colab": {
          "base_uri": "https://localhost:8080/"
        },
        "id": "itero5aCvqX-",
        "outputId": "8ee9a3e7-0ff7-4f61-c24d-190a6e9096f1"
      },
      "execution_count": 8,
      "outputs": [
        {
          "output_type": "execute_result",
          "data": {
            "text/plain": [
              "torch.Size([2])"
            ]
          },
          "metadata": {},
          "execution_count": 8
        }
      ]
    },
    {
      "cell_type": "code",
      "source": [
        "matrix = torch.tensor([[7, 8],\n",
        "                       [9, 10]])\n",
        "matrix"
      ],
      "metadata": {
        "colab": {
          "base_uri": "https://localhost:8080/"
        },
        "id": "fkoiEqVPvuVO",
        "outputId": "b624be29-baf6-495b-c18d-136c7c71e942"
      },
      "execution_count": 9,
      "outputs": [
        {
          "output_type": "execute_result",
          "data": {
            "text/plain": [
              "tensor([[ 7,  8],\n",
              "        [ 9, 10]])"
            ]
          },
          "metadata": {},
          "execution_count": 9
        }
      ]
    },
    {
      "cell_type": "code",
      "source": [
        "matrix.ndim"
      ],
      "metadata": {
        "colab": {
          "base_uri": "https://localhost:8080/"
        },
        "id": "LDROTNTQwwNl",
        "outputId": "bc7c525b-8f90-4a08-fe31-19d3bd0f6f42"
      },
      "execution_count": 10,
      "outputs": [
        {
          "output_type": "execute_result",
          "data": {
            "text/plain": [
              "2"
            ]
          },
          "metadata": {},
          "execution_count": 10
        }
      ]
    },
    {
      "cell_type": "code",
      "source": [
        "matrix.shape"
      ],
      "metadata": {
        "colab": {
          "base_uri": "https://localhost:8080/"
        },
        "id": "BRCIAY64xT9O",
        "outputId": "cea2aaba-c352-420a-db73-88fe7246a014"
      },
      "execution_count": 11,
      "outputs": [
        {
          "output_type": "execute_result",
          "data": {
            "text/plain": [
              "torch.Size([2, 2])"
            ]
          },
          "metadata": {},
          "execution_count": 11
        }
      ]
    },
    {
      "cell_type": "code",
      "source": [
        "tensor = torch.tensor([[[1,2,3,4],\n",
        "                        [4,5,6,4],\n",
        "                        [7,8,9,8]]])\n",
        "tensor"
      ],
      "metadata": {
        "colab": {
          "base_uri": "https://localhost:8080/"
        },
        "id": "CfAbcLROyjIB",
        "outputId": "3496db93-ff11-492b-f930-6eaff3a68446"
      },
      "execution_count": 12,
      "outputs": [
        {
          "output_type": "execute_result",
          "data": {
            "text/plain": [
              "tensor([[[1, 2, 3, 4],\n",
              "         [4, 5, 6, 4],\n",
              "         [7, 8, 9, 8]]])"
            ]
          },
          "metadata": {},
          "execution_count": 12
        }
      ]
    },
    {
      "cell_type": "code",
      "source": [
        "tensor.ndim"
      ],
      "metadata": {
        "colab": {
          "base_uri": "https://localhost:8080/"
        },
        "id": "t6WUBef1y5x4",
        "outputId": "6ffc6f52-7030-47b2-a91e-7806c67490f9"
      },
      "execution_count": 13,
      "outputs": [
        {
          "output_type": "execute_result",
          "data": {
            "text/plain": [
              "3"
            ]
          },
          "metadata": {},
          "execution_count": 13
        }
      ]
    },
    {
      "cell_type": "code",
      "source": [
        "tensor.shape"
      ],
      "metadata": {
        "colab": {
          "base_uri": "https://localhost:8080/"
        },
        "id": "UY1UIP_dy82X",
        "outputId": "1bd2d914-9b35-48df-e5fb-f3402a554ad9"
      },
      "execution_count": 14,
      "outputs": [
        {
          "output_type": "execute_result",
          "data": {
            "text/plain": [
              "torch.Size([1, 3, 4])"
            ]
          },
          "metadata": {},
          "execution_count": 14
        }
      ]
    },
    {
      "cell_type": "code",
      "source": [
        "## Random Tensors\n",
        "\n",
        "random_tensor = torch.rand(3, 4)\n",
        "random_tensor"
      ],
      "metadata": {
        "colab": {
          "base_uri": "https://localhost:8080/"
        },
        "id": "uUREiXwEzAeO",
        "outputId": "6fe1e503-ce96-4104-b963-b2d74b9f99fb"
      },
      "execution_count": 15,
      "outputs": [
        {
          "output_type": "execute_result",
          "data": {
            "text/plain": [
              "tensor([[0.8798, 0.1437, 0.4816, 0.7422],\n",
              "        [0.6398, 0.7159, 0.3557, 0.5694],\n",
              "        [0.3380, 0.6442, 0.4457, 0.7674]])"
            ]
          },
          "metadata": {},
          "execution_count": 15
        }
      ]
    },
    {
      "cell_type": "code",
      "source": [
        "random_tensor.ndim"
      ],
      "metadata": {
        "colab": {
          "base_uri": "https://localhost:8080/"
        },
        "id": "hbpIE7HFzi3D",
        "outputId": "f95bed4e-f369-4e4b-d1a5-bd1b3243878f"
      },
      "execution_count": 16,
      "outputs": [
        {
          "output_type": "execute_result",
          "data": {
            "text/plain": [
              "2"
            ]
          },
          "metadata": {},
          "execution_count": 16
        }
      ]
    },
    {
      "cell_type": "code",
      "source": [
        "random_tensor.shape"
      ],
      "metadata": {
        "colab": {
          "base_uri": "https://localhost:8080/"
        },
        "id": "b5jfumtxzmGr",
        "outputId": "74a587bc-d156-469e-eadc-7d71a06652cb"
      },
      "execution_count": 17,
      "outputs": [
        {
          "output_type": "execute_result",
          "data": {
            "text/plain": [
              "torch.Size([3, 4])"
            ]
          },
          "metadata": {},
          "execution_count": 17
        }
      ]
    },
    {
      "cell_type": "code",
      "source": [
        "big_tensor= torch.rand(224, 224, 3)\n",
        "big_tensor"
      ],
      "metadata": {
        "colab": {
          "base_uri": "https://localhost:8080/"
        },
        "id": "Cdj2j1Tzzohq",
        "outputId": "e6704007-a2e8-45ab-b7af-1500224ca180"
      },
      "execution_count": 18,
      "outputs": [
        {
          "output_type": "execute_result",
          "data": {
            "text/plain": [
              "tensor([[[0.4453, 0.8991, 0.9956],\n",
              "         [0.3857, 0.4114, 0.0841],\n",
              "         [0.6251, 0.5880, 0.4276],\n",
              "         ...,\n",
              "         [0.8703, 0.0923, 0.6952],\n",
              "         [0.3818, 0.6178, 0.5069],\n",
              "         [0.5743, 0.5349, 0.4667]],\n",
              "\n",
              "        [[0.2913, 0.5284, 0.9812],\n",
              "         [0.3041, 0.5026, 0.1840],\n",
              "         [0.2628, 0.4994, 0.6703],\n",
              "         ...,\n",
              "         [0.3514, 0.3031, 0.4821],\n",
              "         [0.3840, 0.4716, 0.2848],\n",
              "         [0.5895, 0.6543, 0.1681]],\n",
              "\n",
              "        [[0.6460, 0.2293, 0.8925],\n",
              "         [0.6496, 0.0121, 0.2246],\n",
              "         [0.8554, 0.7680, 0.0812],\n",
              "         ...,\n",
              "         [0.0917, 0.3379, 0.0631],\n",
              "         [0.2704, 0.5867, 0.2841],\n",
              "         [0.0167, 0.7277, 0.2589]],\n",
              "\n",
              "        ...,\n",
              "\n",
              "        [[0.8203, 0.7563, 0.6296],\n",
              "         [0.7462, 0.3365, 0.6223],\n",
              "         [0.8419, 0.5984, 0.0992],\n",
              "         ...,\n",
              "         [0.0342, 0.5084, 0.7374],\n",
              "         [0.1560, 0.0566, 0.1185],\n",
              "         [0.9005, 0.2227, 0.7703]],\n",
              "\n",
              "        [[0.3437, 0.5675, 0.1908],\n",
              "         [0.8427, 0.6050, 0.1425],\n",
              "         [0.5230, 0.2346, 0.7467],\n",
              "         ...,\n",
              "         [0.7043, 0.1704, 0.1923],\n",
              "         [0.9569, 0.0364, 0.1344],\n",
              "         [0.0676, 0.2382, 0.1054]],\n",
              "\n",
              "        [[0.1896, 0.7906, 0.7911],\n",
              "         [0.4433, 0.4126, 0.8006],\n",
              "         [0.7926, 0.1141, 0.9794],\n",
              "         ...,\n",
              "         [0.7523, 0.9892, 0.7253],\n",
              "         [0.5111, 0.4465, 0.4904],\n",
              "         [0.8473, 0.4775, 0.6624]]])"
            ]
          },
          "metadata": {},
          "execution_count": 18
        }
      ]
    },
    {
      "cell_type": "code",
      "source": [
        "big_tensor.ndim"
      ],
      "metadata": {
        "colab": {
          "base_uri": "https://localhost:8080/"
        },
        "id": "LLlPgICUzx-b",
        "outputId": "8f5d51d9-627a-47d4-fa4d-6401e90913a3"
      },
      "execution_count": 19,
      "outputs": [
        {
          "output_type": "execute_result",
          "data": {
            "text/plain": [
              "3"
            ]
          },
          "metadata": {},
          "execution_count": 19
        }
      ]
    },
    {
      "cell_type": "code",
      "source": [
        "big_tensor.shape"
      ],
      "metadata": {
        "colab": {
          "base_uri": "https://localhost:8080/"
        },
        "id": "2Ydqug4Zz217",
        "outputId": "8142fa21-8691-4e92-f303-4528a703cf73"
      },
      "execution_count": 20,
      "outputs": [
        {
          "output_type": "execute_result",
          "data": {
            "text/plain": [
              "torch.Size([224, 224, 3])"
            ]
          },
          "metadata": {},
          "execution_count": 20
        }
      ]
    },
    {
      "cell_type": "code",
      "source": [
        "# For masking we need to use\n",
        "# Zeros and Ones tensor\n",
        "\n",
        "zeros = torch.zeros(size=(3, 4))\n",
        "zeros"
      ],
      "metadata": {
        "colab": {
          "base_uri": "https://localhost:8080/"
        },
        "id": "z_r4liRuz4Mb",
        "outputId": "e627df15-ff42-474d-ce87-bb46facbe561"
      },
      "execution_count": 21,
      "outputs": [
        {
          "output_type": "execute_result",
          "data": {
            "text/plain": [
              "tensor([[0., 0., 0., 0.],\n",
              "        [0., 0., 0., 0.],\n",
              "        [0., 0., 0., 0.]])"
            ]
          },
          "metadata": {},
          "execution_count": 21
        }
      ]
    },
    {
      "cell_type": "code",
      "source": [
        "ones=torch.ones(size=(3, 4))\n",
        "ones"
      ],
      "metadata": {
        "colab": {
          "base_uri": "https://localhost:8080/"
        },
        "id": "6bWVEej50Sn7",
        "outputId": "d218c0fb-ba2f-4f00-f00c-e876fe38cf76"
      },
      "execution_count": 22,
      "outputs": [
        {
          "output_type": "execute_result",
          "data": {
            "text/plain": [
              "tensor([[1., 1., 1., 1.],\n",
              "        [1., 1., 1., 1.],\n",
              "        [1., 1., 1., 1.]])"
            ]
          },
          "metadata": {},
          "execution_count": 22
        }
      ]
    },
    {
      "cell_type": "code",
      "source": [],
      "metadata": {
        "id": "pEHTA2UZ0X2j"
      },
      "execution_count": null,
      "outputs": []
    }
  ]
}