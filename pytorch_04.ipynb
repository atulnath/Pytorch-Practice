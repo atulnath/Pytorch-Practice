{
  "nbformat": 4,
  "nbformat_minor": 0,
  "metadata": {
    "colab": {
      "provenance": [],
      "authorship_tag": "ABX9TyNPCF7wFUFSCEGGCP65GeKB",
      "include_colab_link": true
    },
    "kernelspec": {
      "name": "python3",
      "display_name": "Python 3"
    },
    "language_info": {
      "name": "python"
    }
  },
  "cells": [
    {
      "cell_type": "markdown",
      "metadata": {
        "id": "view-in-github",
        "colab_type": "text"
      },
      "source": [
        "<a href=\"https://colab.research.google.com/github/atulnath/Pytorch-Practice/blob/main/pytorch_04.ipynb\" target=\"_parent\"><img src=\"https://colab.research.google.com/assets/colab-badge.svg\" alt=\"Open In Colab\"/></a>"
      ]
    },
    {
      "cell_type": "markdown",
      "source": [
        "\n",
        "\n",
        "*   max\n",
        "*   min\n",
        "*   mean\n",
        "*   sum\n",
        "\n",
        "\n",
        "\n"
      ],
      "metadata": {
        "id": "ROuWz_Ft01Sg"
      }
    },
    {
      "cell_type": "code",
      "source": [
        "import torch"
      ],
      "metadata": {
        "id": "Kd52jX6r1FEP"
      },
      "execution_count": 1,
      "outputs": []
    },
    {
      "cell_type": "code",
      "source": [
        "x = torch.arange(1,5)\n",
        "x"
      ],
      "metadata": {
        "colab": {
          "base_uri": "https://localhost:8080/"
        },
        "id": "0z_usKl71Hf2",
        "outputId": "336c0ed2-fa19-4825-fe48-f003e5afa32b"
      },
      "execution_count": 2,
      "outputs": [
        {
          "output_type": "execute_result",
          "data": {
            "text/plain": [
              "tensor([1, 2, 3, 4])"
            ]
          },
          "metadata": {},
          "execution_count": 2
        }
      ]
    },
    {
      "cell_type": "code",
      "source": [
        "x.min(), x.max()"
      ],
      "metadata": {
        "colab": {
          "base_uri": "https://localhost:8080/"
        },
        "id": "NxGXV62u1NNE",
        "outputId": "31c6b00f-29da-46aa-aa97-5cf8dc50ab6d"
      },
      "execution_count": 3,
      "outputs": [
        {
          "output_type": "execute_result",
          "data": {
            "text/plain": [
              "(tensor(1), tensor(4))"
            ]
          },
          "metadata": {},
          "execution_count": 3
        }
      ]
    },
    {
      "cell_type": "code",
      "source": [
        "x.sum()"
      ],
      "metadata": {
        "colab": {
          "base_uri": "https://localhost:8080/"
        },
        "id": "_DVh7lEE1Q08",
        "outputId": "7f7aacfa-dfbe-40ac-e8c8-9c62dbcd10d7"
      },
      "execution_count": 4,
      "outputs": [
        {
          "output_type": "execute_result",
          "data": {
            "text/plain": [
              "tensor(10)"
            ]
          },
          "metadata": {},
          "execution_count": 4
        }
      ]
    },
    {
      "cell_type": "code",
      "source": [
        "x = torch.tensor(x, dtype=torch.float32)\n",
        "x"
      ],
      "metadata": {
        "colab": {
          "base_uri": "https://localhost:8080/"
        },
        "id": "YSP09acx1UzV",
        "outputId": "8c3bb24c-6cbd-4395-863e-680a89f421e5"
      },
      "execution_count": 6,
      "outputs": [
        {
          "output_type": "stream",
          "name": "stderr",
          "text": [
            "/tmp/ipython-input-6-1756322803.py:1: UserWarning: To copy construct from a tensor, it is recommended to use sourceTensor.clone().detach() or sourceTensor.clone().detach().requires_grad_(True), rather than torch.tensor(sourceTensor).\n",
            "  x = torch.tensor(x, dtype=torch.float32)\n"
          ]
        },
        {
          "output_type": "execute_result",
          "data": {
            "text/plain": [
              "tensor([1., 2., 3., 4.])"
            ]
          },
          "metadata": {},
          "execution_count": 6
        }
      ]
    },
    {
      "cell_type": "code",
      "source": [
        "x.mean()"
      ],
      "metadata": {
        "colab": {
          "base_uri": "https://localhost:8080/"
        },
        "id": "BYn67LO-1XaE",
        "outputId": "e9083cca-903a-478c-d248-39a43b31206f"
      },
      "execution_count": 7,
      "outputs": [
        {
          "output_type": "execute_result",
          "data": {
            "text/plain": [
              "tensor(2.5000)"
            ]
          },
          "metadata": {},
          "execution_count": 7
        }
      ]
    },
    {
      "cell_type": "code",
      "source": [
        "# Return index of min and max\n",
        "\n",
        "x.argmin(), x.argmax()"
      ],
      "metadata": {
        "colab": {
          "base_uri": "https://localhost:8080/"
        },
        "id": "YIQ53ff21u_c",
        "outputId": "cb4e1371-6910-4d2b-dedb-f5d837d608ea"
      },
      "execution_count": 8,
      "outputs": [
        {
          "output_type": "execute_result",
          "data": {
            "text/plain": [
              "(tensor(0), tensor(3))"
            ]
          },
          "metadata": {},
          "execution_count": 8
        }
      ]
    },
    {
      "cell_type": "markdown",
      "source": [
        "\n",
        "\n",
        "1.   Reshaping\n",
        "2.   stacking\n",
        "3.   Squezing\n",
        "4.   Unsquezing\n",
        "5.   Permute\n",
        "\n"
      ],
      "metadata": {
        "id": "PL9bsnUh3Rif"
      }
    },
    {
      "cell_type": "code",
      "source": [
        "# Reshape\n",
        "\n",
        "x = torch.arange(1.,10.)\n",
        "x"
      ],
      "metadata": {
        "colab": {
          "base_uri": "https://localhost:8080/"
        },
        "id": "gddHCW7A2g5V",
        "outputId": "068d564c-ed77-4a48-abc2-481ade5791f2"
      },
      "execution_count": 9,
      "outputs": [
        {
          "output_type": "execute_result",
          "data": {
            "text/plain": [
              "tensor([1., 2., 3., 4., 5., 6., 7., 8., 9.])"
            ]
          },
          "metadata": {},
          "execution_count": 9
        }
      ]
    },
    {
      "cell_type": "code",
      "source": [
        "x_reshape= x.reshape(3,3)\n",
        "x_reshape"
      ],
      "metadata": {
        "colab": {
          "base_uri": "https://localhost:8080/"
        },
        "id": "HPnfTPtF4qSm",
        "outputId": "45b1d79d-9c76-40d5-8204-95a874ac7e4a"
      },
      "execution_count": 10,
      "outputs": [
        {
          "output_type": "execute_result",
          "data": {
            "text/plain": [
              "tensor([[1., 2., 3.],\n",
              "        [4., 5., 6.],\n",
              "        [7., 8., 9.]])"
            ]
          },
          "metadata": {},
          "execution_count": 10
        }
      ]
    },
    {
      "cell_type": "code",
      "source": [
        "# Reshape vs View\n",
        "\n",
        "z = x.view(3,3)\n",
        "z"
      ],
      "metadata": {
        "colab": {
          "base_uri": "https://localhost:8080/"
        },
        "id": "BLCoVDuF4vFs",
        "outputId": "a19adde9-da76-4faa-f4ce-bb8696662aaf"
      },
      "execution_count": 11,
      "outputs": [
        {
          "output_type": "execute_result",
          "data": {
            "text/plain": [
              "tensor([[1., 2., 3.],\n",
              "        [4., 5., 6.],\n",
              "        [7., 8., 9.]])"
            ]
          },
          "metadata": {},
          "execution_count": 11
        }
      ]
    },
    {
      "cell_type": "code",
      "source": [
        "z[0,0] = 47\n",
        "z"
      ],
      "metadata": {
        "colab": {
          "base_uri": "https://localhost:8080/"
        },
        "id": "MT3TLQnl6U-0",
        "outputId": "5e308a47-e517-4ac1-b286-e4f9aac57f69"
      },
      "execution_count": 12,
      "outputs": [
        {
          "output_type": "execute_result",
          "data": {
            "text/plain": [
              "tensor([[47.,  2.,  3.],\n",
              "        [ 4.,  5.,  6.],\n",
              "        [ 7.,  8.,  9.]])"
            ]
          },
          "metadata": {},
          "execution_count": 12
        }
      ]
    },
    {
      "cell_type": "code",
      "source": [
        "x # Changes happens to x also if we change on view"
      ],
      "metadata": {
        "colab": {
          "base_uri": "https://localhost:8080/"
        },
        "id": "ZXsScyew65nE",
        "outputId": "e112570c-801e-4069-c511-c5390dd0e5be"
      },
      "execution_count": 13,
      "outputs": [
        {
          "output_type": "execute_result",
          "data": {
            "text/plain": [
              "tensor([47.,  2.,  3.,  4.,  5.,  6.,  7.,  8.,  9.])"
            ]
          },
          "metadata": {},
          "execution_count": 13
        }
      ]
    },
    {
      "cell_type": "code",
      "source": [
        "\n",
        "x = torch.arange(1.,10.)\n",
        "x"
      ],
      "metadata": {
        "colab": {
          "base_uri": "https://localhost:8080/"
        },
        "id": "7f9o9DlL68Cl",
        "outputId": "a2c9be89-62ac-45ab-8b03-59407e402038"
      },
      "execution_count": 14,
      "outputs": [
        {
          "output_type": "execute_result",
          "data": {
            "text/plain": [
              "tensor([1., 2., 3., 4., 5., 6., 7., 8., 9.])"
            ]
          },
          "metadata": {},
          "execution_count": 14
        }
      ]
    },
    {
      "cell_type": "code",
      "source": [
        "# stack: all the tensor size should be same\n",
        "\n",
        "x_stack = torch.stack([x,x,x], dim=0) # dim= 0, row-wise\n",
        "x_stack"
      ],
      "metadata": {
        "colab": {
          "base_uri": "https://localhost:8080/"
        },
        "id": "klcJPQOE7fVu",
        "outputId": "4a0399d1-e75d-488c-ad87-ce52ea3d8cbe"
      },
      "execution_count": 15,
      "outputs": [
        {
          "output_type": "execute_result",
          "data": {
            "text/plain": [
              "tensor([[1., 2., 3., 4., 5., 6., 7., 8., 9.],\n",
              "        [1., 2., 3., 4., 5., 6., 7., 8., 9.],\n",
              "        [1., 2., 3., 4., 5., 6., 7., 8., 9.]])"
            ]
          },
          "metadata": {},
          "execution_count": 15
        }
      ]
    },
    {
      "cell_type": "code",
      "source": [
        "x_stack = torch.stack([x,x,x], dim=1) # dim= 0, col-wise\n",
        "x_stack"
      ],
      "metadata": {
        "colab": {
          "base_uri": "https://localhost:8080/"
        },
        "id": "Go_Meq_k73xk",
        "outputId": "ae4d7303-61e1-4c27-ff02-9180d784dc77"
      },
      "execution_count": 16,
      "outputs": [
        {
          "output_type": "execute_result",
          "data": {
            "text/plain": [
              "tensor([[1., 1., 1.],\n",
              "        [2., 2., 2.],\n",
              "        [3., 3., 3.],\n",
              "        [4., 4., 4.],\n",
              "        [5., 5., 5.],\n",
              "        [6., 6., 6.],\n",
              "        [7., 7., 7.],\n",
              "        [8., 8., 8.],\n",
              "        [9., 9., 9.]])"
            ]
          },
          "metadata": {},
          "execution_count": 16
        }
      ]
    },
    {
      "cell_type": "code",
      "source": [
        "x = torch.arange(1.,10.)\n",
        "x"
      ],
      "metadata": {
        "colab": {
          "base_uri": "https://localhost:8080/"
        },
        "id": "CPiJKBCx8YS2",
        "outputId": "9c6ab419-bd29-42ed-dd98-ae86ac913b0c"
      },
      "execution_count": 17,
      "outputs": [
        {
          "output_type": "execute_result",
          "data": {
            "text/plain": [
              "tensor([1., 2., 3., 4., 5., 6., 7., 8., 9.])"
            ]
          },
          "metadata": {},
          "execution_count": 17
        }
      ]
    },
    {
      "cell_type": "code",
      "source": [
        "# unsqueeze\n",
        "\n",
        "x_unsqueeze = x.unsqueeze(dim=0) # add one more dimension\n",
        "x_unsqueeze"
      ],
      "metadata": {
        "colab": {
          "base_uri": "https://localhost:8080/"
        },
        "id": "yi3GuZnh8ogs",
        "outputId": "7dee1943-77c2-469e-d200-8872e5147d63"
      },
      "execution_count": 18,
      "outputs": [
        {
          "output_type": "execute_result",
          "data": {
            "text/plain": [
              "tensor([[1., 2., 3., 4., 5., 6., 7., 8., 9.]])"
            ]
          },
          "metadata": {},
          "execution_count": 18
        }
      ]
    },
    {
      "cell_type": "code",
      "source": [
        "x_unsqueeze = x.unsqueeze(dim=0)# add one more dimension\n",
        "x_unsqueeze"
      ],
      "metadata": {
        "colab": {
          "base_uri": "https://localhost:8080/"
        },
        "id": "PHh-FDiD8s3c",
        "outputId": "e99fbb93-1eed-4274-8561-c8e86998f0e1"
      },
      "execution_count": 19,
      "outputs": [
        {
          "output_type": "execute_result",
          "data": {
            "text/plain": [
              "tensor([[1., 2., 3., 4., 5., 6., 7., 8., 9.]])"
            ]
          },
          "metadata": {},
          "execution_count": 19
        }
      ]
    },
    {
      "cell_type": "code",
      "source": [
        "x_unsqueeze = x.unsqueeze(dim=1) # add one more dimension\n",
        "x_unsqueeze"
      ],
      "metadata": {
        "colab": {
          "base_uri": "https://localhost:8080/"
        },
        "id": "Zxi5Xw668wH8",
        "outputId": "17a5bcb5-5a3a-4382-fcfe-f8c546c6cde5"
      },
      "execution_count": 20,
      "outputs": [
        {
          "output_type": "execute_result",
          "data": {
            "text/plain": [
              "tensor([[1.],\n",
              "        [2.],\n",
              "        [3.],\n",
              "        [4.],\n",
              "        [5.],\n",
              "        [6.],\n",
              "        [7.],\n",
              "        [8.],\n",
              "        [9.]])"
            ]
          },
          "metadata": {},
          "execution_count": 20
        }
      ]
    },
    {
      "cell_type": "code",
      "source": [
        "x_unsqueeze =x_unsqueeze.unsqueeze(dim=1) # add one more dimension\n",
        "x_unsqueeze"
      ],
      "metadata": {
        "colab": {
          "base_uri": "https://localhost:8080/"
        },
        "id": "6qhzmLoO852c",
        "outputId": "0cc58f97-59e1-4441-b0b3-a7627ddd42ff"
      },
      "execution_count": 22,
      "outputs": [
        {
          "output_type": "execute_result",
          "data": {
            "text/plain": [
              "tensor([[[1.]],\n",
              "\n",
              "        [[2.]],\n",
              "\n",
              "        [[3.]],\n",
              "\n",
              "        [[4.]],\n",
              "\n",
              "        [[5.]],\n",
              "\n",
              "        [[6.]],\n",
              "\n",
              "        [[7.]],\n",
              "\n",
              "        [[8.]],\n",
              "\n",
              "        [[9.]]])"
            ]
          },
          "metadata": {},
          "execution_count": 22
        }
      ]
    },
    {
      "cell_type": "code",
      "source": [
        "x_squeeze =  x_unsqueeze.squeeze()\n",
        "x_squeeze"
      ],
      "metadata": {
        "colab": {
          "base_uri": "https://localhost:8080/"
        },
        "id": "j_xXNBiv9MpM",
        "outputId": "ae82e2f4-b02c-4237-9af3-489665fffa43"
      },
      "execution_count": 23,
      "outputs": [
        {
          "output_type": "execute_result",
          "data": {
            "text/plain": [
              "tensor([1., 2., 3., 4., 5., 6., 7., 8., 9.])"
            ]
          },
          "metadata": {},
          "execution_count": 23
        }
      ]
    },
    {
      "cell_type": "code",
      "source": [
        "# Permute\n",
        "\n",
        "x = torch.rand(size=(224,224,3))\n",
        "x"
      ],
      "metadata": {
        "colab": {
          "base_uri": "https://localhost:8080/"
        },
        "id": "tPiCPWvx972H",
        "outputId": "e32374bd-71c0-4f62-a01b-5ee5185ee33a"
      },
      "execution_count": 24,
      "outputs": [
        {
          "output_type": "execute_result",
          "data": {
            "text/plain": [
              "tensor([[[0.5607, 0.1314, 0.5439],\n",
              "         [0.3940, 0.2953, 0.9098],\n",
              "         [0.8031, 0.7962, 0.5043],\n",
              "         ...,\n",
              "         [0.5459, 0.5508, 0.5685],\n",
              "         [0.3297, 0.8767, 0.7675],\n",
              "         [0.4962, 0.2779, 0.6384]],\n",
              "\n",
              "        [[0.6552, 0.3949, 0.3421],\n",
              "         [0.7022, 0.1774, 0.5074],\n",
              "         [0.1846, 0.5464, 0.2521],\n",
              "         ...,\n",
              "         [0.6567, 0.4554, 0.3483],\n",
              "         [0.2200, 0.9936, 0.9676],\n",
              "         [0.7682, 0.3161, 0.5723]],\n",
              "\n",
              "        [[0.4508, 0.1206, 0.3233],\n",
              "         [0.7570, 0.7128, 0.3206],\n",
              "         [0.0444, 0.7191, 0.7397],\n",
              "         ...,\n",
              "         [0.9128, 0.8645, 0.7053],\n",
              "         [0.1577, 0.6268, 0.2261],\n",
              "         [0.9695, 0.9467, 0.9578]],\n",
              "\n",
              "        ...,\n",
              "\n",
              "        [[0.7670, 0.2323, 0.0304],\n",
              "         [0.9596, 0.6083, 0.8346],\n",
              "         [0.4080, 0.4776, 0.5553],\n",
              "         ...,\n",
              "         [0.5668, 0.4480, 0.6383],\n",
              "         [0.6038, 0.5433, 0.7157],\n",
              "         [0.9929, 0.8109, 0.2715]],\n",
              "\n",
              "        [[0.6924, 0.9599, 0.2566],\n",
              "         [0.2682, 0.1032, 0.5291],\n",
              "         [0.2312, 0.3365, 0.6273],\n",
              "         ...,\n",
              "         [0.4283, 0.1641, 0.0800],\n",
              "         [0.6672, 0.6135, 0.1094],\n",
              "         [0.9404, 0.9264, 0.8782]],\n",
              "\n",
              "        [[0.7095, 0.4657, 0.6443],\n",
              "         [0.5082, 0.1683, 0.9698],\n",
              "         [0.3751, 0.4099, 0.3368],\n",
              "         ...,\n",
              "         [0.1032, 0.7902, 0.5819],\n",
              "         [0.8931, 0.3731, 0.8184],\n",
              "         [0.8087, 0.3202, 0.5409]]])"
            ]
          },
          "metadata": {},
          "execution_count": 24
        }
      ]
    },
    {
      "cell_type": "code",
      "source": [
        "x_permute = x.permute(2,0,1) # 2, 0, 1 are index, now it changed the our original shape\n",
        "x_permute # [new shape] => 3 224 224"
      ],
      "metadata": {
        "colab": {
          "base_uri": "https://localhost:8080/"
        },
        "id": "I-TBhlxz-S01",
        "outputId": "3511f62f-9aab-484f-f25c-5bf121de252c"
      },
      "execution_count": 25,
      "outputs": [
        {
          "output_type": "execute_result",
          "data": {
            "text/plain": [
              "tensor([[[0.5607, 0.3940, 0.8031,  ..., 0.5459, 0.3297, 0.4962],\n",
              "         [0.6552, 0.7022, 0.1846,  ..., 0.6567, 0.2200, 0.7682],\n",
              "         [0.4508, 0.7570, 0.0444,  ..., 0.9128, 0.1577, 0.9695],\n",
              "         ...,\n",
              "         [0.7670, 0.9596, 0.4080,  ..., 0.5668, 0.6038, 0.9929],\n",
              "         [0.6924, 0.2682, 0.2312,  ..., 0.4283, 0.6672, 0.9404],\n",
              "         [0.7095, 0.5082, 0.3751,  ..., 0.1032, 0.8931, 0.8087]],\n",
              "\n",
              "        [[0.1314, 0.2953, 0.7962,  ..., 0.5508, 0.8767, 0.2779],\n",
              "         [0.3949, 0.1774, 0.5464,  ..., 0.4554, 0.9936, 0.3161],\n",
              "         [0.1206, 0.7128, 0.7191,  ..., 0.8645, 0.6268, 0.9467],\n",
              "         ...,\n",
              "         [0.2323, 0.6083, 0.4776,  ..., 0.4480, 0.5433, 0.8109],\n",
              "         [0.9599, 0.1032, 0.3365,  ..., 0.1641, 0.6135, 0.9264],\n",
              "         [0.4657, 0.1683, 0.4099,  ..., 0.7902, 0.3731, 0.3202]],\n",
              "\n",
              "        [[0.5439, 0.9098, 0.5043,  ..., 0.5685, 0.7675, 0.6384],\n",
              "         [0.3421, 0.5074, 0.2521,  ..., 0.3483, 0.9676, 0.5723],\n",
              "         [0.3233, 0.3206, 0.7397,  ..., 0.7053, 0.2261, 0.9578],\n",
              "         ...,\n",
              "         [0.0304, 0.8346, 0.5553,  ..., 0.6383, 0.7157, 0.2715],\n",
              "         [0.2566, 0.5291, 0.6273,  ..., 0.0800, 0.1094, 0.8782],\n",
              "         [0.6443, 0.9698, 0.3368,  ..., 0.5819, 0.8184, 0.5409]]])"
            ]
          },
          "metadata": {},
          "execution_count": 25
        }
      ]
    },
    {
      "cell_type": "code",
      "source": [
        "x_permute.shape"
      ],
      "metadata": {
        "colab": {
          "base_uri": "https://localhost:8080/"
        },
        "id": "snE1fpjw-lgU",
        "outputId": "1ca56dc9-709f-4a77-968a-cdd5360d83ea"
      },
      "execution_count": 26,
      "outputs": [
        {
          "output_type": "execute_result",
          "data": {
            "text/plain": [
              "torch.Size([3, 224, 224])"
            ]
          },
          "metadata": {},
          "execution_count": 26
        }
      ]
    },
    {
      "cell_type": "markdown",
      "source": [],
      "metadata": {
        "id": "6HGlPwcwADhh"
      }
    },
    {
      "cell_type": "code",
      "source": [],
      "metadata": {
        "id": "YOiIcDJZ_n3v"
      },
      "execution_count": null,
      "outputs": []
    }
  ]
}